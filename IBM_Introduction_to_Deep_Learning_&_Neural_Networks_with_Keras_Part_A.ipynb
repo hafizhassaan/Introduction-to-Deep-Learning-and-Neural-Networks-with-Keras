{
  "nbformat": 4,
  "nbformat_minor": 0,
  "metadata": {
    "colab": {
      "provenance": [],
      "authorship_tag": "ABX9TyO0djxNKZ+ETIv6aGfLFJsA"
    },
    "kernelspec": {
      "name": "python3",
      "display_name": "Python 3"
    },
    "language_info": {
      "name": "python"
    }
  },
  "cells": [
    {
      "cell_type": "markdown",
      "source": [
        "# Introduction to Deep Learning & Neural Networks with Keras\n",
        "Part A: Build a baseline model"
      ],
      "metadata": {
        "id": "dHh4B-QJ5fa6"
      }
    },
    {
      "cell_type": "markdown",
      "source": [
        "## Assignment Topic:\n",
        "In this project, we will build a regression model using the Keras library to model the data about concrete compressive strength."
      ],
      "metadata": {
        "id": "MU0ioim35m4e"
      }
    },
    {
      "cell_type": "markdown",
      "source": [
        "## Concrete Data:\n",
        "\n",
        "The data can be found here: [Dataset Link](https://cocl.us/concrete_data)\n",
        "\n",
        "The predictors in the data of concrete strength include:\n",
        "1.   Cement\n",
        "2.   Blast Furnace Slag\n",
        "3.   Fly Ash\n",
        "4.   Superplasticizer\n",
        "5.   Coarse Aggregate\n",
        "6.   Fine Aggregate"
      ],
      "metadata": {
        "id": "X5w9TYhv6IQY"
      }
    },
    {
      "cell_type": "markdown",
      "source": [
        "Download the concrete data file from the specified URL using wget"
      ],
      "metadata": {
        "id": "C1HQV1d54dSo"
      }
    },
    {
      "cell_type": "code",
      "execution_count": null,
      "metadata": {
        "colab": {
          "base_uri": "https://localhost:8080/"
        },
        "id": "6hYGQYBE0Cd5",
        "outputId": "3b05d307-e9e4-4c54-edc4-496f2c89dedc"
      },
      "outputs": [
        {
          "output_type": "stream",
          "name": "stdout",
          "text": [
            "--2023-10-03 16:59:31--  https://cocl.us/concrete_data\n",
            "Resolving cocl.us (cocl.us)... 23.34.82.207, 23.34.82.208, 2600:1402:1400:2d::17df:1f05, ...\n",
            "Connecting to cocl.us (cocl.us)|23.34.82.207|:443... connected.\n",
            "HTTP request sent, awaiting response... 302 Moved Temporarily\n",
            "Location: https://s3-api.us-geo.objectstorage.softlayer.net/cf-courses-data/CognitiveClass/DL0101EN/labs/data/concrete_data.csv [following]\n",
            "--2023-10-03 16:59:31--  https://s3-api.us-geo.objectstorage.softlayer.net/cf-courses-data/CognitiveClass/DL0101EN/labs/data/concrete_data.csv\n",
            "Resolving s3-api.us-geo.objectstorage.softlayer.net (s3-api.us-geo.objectstorage.softlayer.net)... 67.228.254.196\n",
            "Connecting to s3-api.us-geo.objectstorage.softlayer.net (s3-api.us-geo.objectstorage.softlayer.net)|67.228.254.196|:443... connected.\n",
            "HTTP request sent, awaiting response... 200 OK\n",
            "Length: 58988 (58K) [text/csv]\n",
            "Saving to: ‘concrete_data.csv’\n",
            "\n",
            "concrete_data.csv   100%[===================>]  57.61K  --.-KB/s    in 0.02s   \n",
            "\n",
            "2023-10-03 16:59:31 (2.36 MB/s) - ‘concrete_data.csv’ saved [58988/58988]\n",
            "\n"
          ]
        }
      ],
      "source": [
        "# Uncomment the following line if you need to download the dataset directly from the download link\n",
        "# !wget \"https://cocl.us/concrete_data\" -O concrete_data.csv"
      ]
    },
    {
      "cell_type": "markdown",
      "source": [
        "Import necessary libraries and modules for data manipulation, splitting, metrics, and building a neural network model"
      ],
      "metadata": {
        "id": "OmIKclOH4ogk"
      }
    },
    {
      "cell_type": "code",
      "source": [
        "import pandas as pd\n",
        "import numpy as np\n",
        "\n",
        "from sklearn.model_selection import train_test_split\n",
        "from sklearn.metrics import mean_squared_error\n",
        "\n",
        "from tensorflow.keras import Sequential\n",
        "from tensorflow.keras.layers import Dense"
      ],
      "metadata": {
        "id": "o_mRgOzq0dP4"
      },
      "execution_count": null,
      "outputs": []
    },
    {
      "cell_type": "markdown",
      "source": [
        "Read the data from a CSV file named 'concrete_data' into a DataFrame (df)"
      ],
      "metadata": {
        "id": "YsGdC1oO470i"
      }
    },
    {
      "cell_type": "code",
      "source": [
        "df = pd.read_csv('concrete_data.csv')"
      ],
      "metadata": {
        "id": "MNZZBMvU4xqq"
      },
      "execution_count": null,
      "outputs": []
    },
    {
      "cell_type": "markdown",
      "source": [
        "Display the first few rows of the DataFrame to get an initial glimpse of the data"
      ],
      "metadata": {
        "id": "ai3ZnDIUA1uA"
      }
    },
    {
      "cell_type": "code",
      "source": [
        "df.head()"
      ],
      "metadata": {
        "colab": {
          "base_uri": "https://localhost:8080/",
          "height": 206
        },
        "id": "K0_1CA-lA1JO",
        "outputId": "8e04cfe1-f542-4f45-cb71-9118dfd667a8"
      },
      "execution_count": null,
      "outputs": [
        {
          "output_type": "execute_result",
          "data": {
            "text/plain": [
              "   Cement  Blast Furnace Slag  Fly Ash  Water  Superplasticizer  \\\n",
              "0   540.0                 0.0      0.0  162.0               2.5   \n",
              "1   540.0                 0.0      0.0  162.0               2.5   \n",
              "2   332.5               142.5      0.0  228.0               0.0   \n",
              "3   332.5               142.5      0.0  228.0               0.0   \n",
              "4   198.6               132.4      0.0  192.0               0.0   \n",
              "\n",
              "   Coarse Aggregate  Fine Aggregate  Age  Strength  \n",
              "0            1040.0           676.0   28     79.99  \n",
              "1            1055.0           676.0   28     61.89  \n",
              "2             932.0           594.0  270     40.27  \n",
              "3             932.0           594.0  365     41.05  \n",
              "4             978.4           825.5  360     44.30  "
            ],
            "text/html": [
              "\n",
              "  <div id=\"df-0d3f7337-1809-428d-9cc1-bf60349d7b4d\" class=\"colab-df-container\">\n",
              "    <div>\n",
              "<style scoped>\n",
              "    .dataframe tbody tr th:only-of-type {\n",
              "        vertical-align: middle;\n",
              "    }\n",
              "\n",
              "    .dataframe tbody tr th {\n",
              "        vertical-align: top;\n",
              "    }\n",
              "\n",
              "    .dataframe thead th {\n",
              "        text-align: right;\n",
              "    }\n",
              "</style>\n",
              "<table border=\"1\" class=\"dataframe\">\n",
              "  <thead>\n",
              "    <tr style=\"text-align: right;\">\n",
              "      <th></th>\n",
              "      <th>Cement</th>\n",
              "      <th>Blast Furnace Slag</th>\n",
              "      <th>Fly Ash</th>\n",
              "      <th>Water</th>\n",
              "      <th>Superplasticizer</th>\n",
              "      <th>Coarse Aggregate</th>\n",
              "      <th>Fine Aggregate</th>\n",
              "      <th>Age</th>\n",
              "      <th>Strength</th>\n",
              "    </tr>\n",
              "  </thead>\n",
              "  <tbody>\n",
              "    <tr>\n",
              "      <th>0</th>\n",
              "      <td>540.0</td>\n",
              "      <td>0.0</td>\n",
              "      <td>0.0</td>\n",
              "      <td>162.0</td>\n",
              "      <td>2.5</td>\n",
              "      <td>1040.0</td>\n",
              "      <td>676.0</td>\n",
              "      <td>28</td>\n",
              "      <td>79.99</td>\n",
              "    </tr>\n",
              "    <tr>\n",
              "      <th>1</th>\n",
              "      <td>540.0</td>\n",
              "      <td>0.0</td>\n",
              "      <td>0.0</td>\n",
              "      <td>162.0</td>\n",
              "      <td>2.5</td>\n",
              "      <td>1055.0</td>\n",
              "      <td>676.0</td>\n",
              "      <td>28</td>\n",
              "      <td>61.89</td>\n",
              "    </tr>\n",
              "    <tr>\n",
              "      <th>2</th>\n",
              "      <td>332.5</td>\n",
              "      <td>142.5</td>\n",
              "      <td>0.0</td>\n",
              "      <td>228.0</td>\n",
              "      <td>0.0</td>\n",
              "      <td>932.0</td>\n",
              "      <td>594.0</td>\n",
              "      <td>270</td>\n",
              "      <td>40.27</td>\n",
              "    </tr>\n",
              "    <tr>\n",
              "      <th>3</th>\n",
              "      <td>332.5</td>\n",
              "      <td>142.5</td>\n",
              "      <td>0.0</td>\n",
              "      <td>228.0</td>\n",
              "      <td>0.0</td>\n",
              "      <td>932.0</td>\n",
              "      <td>594.0</td>\n",
              "      <td>365</td>\n",
              "      <td>41.05</td>\n",
              "    </tr>\n",
              "    <tr>\n",
              "      <th>4</th>\n",
              "      <td>198.6</td>\n",
              "      <td>132.4</td>\n",
              "      <td>0.0</td>\n",
              "      <td>192.0</td>\n",
              "      <td>0.0</td>\n",
              "      <td>978.4</td>\n",
              "      <td>825.5</td>\n",
              "      <td>360</td>\n",
              "      <td>44.30</td>\n",
              "    </tr>\n",
              "  </tbody>\n",
              "</table>\n",
              "</div>\n",
              "    <div class=\"colab-df-buttons\">\n",
              "\n",
              "  <div class=\"colab-df-container\">\n",
              "    <button class=\"colab-df-convert\" onclick=\"convertToInteractive('df-0d3f7337-1809-428d-9cc1-bf60349d7b4d')\"\n",
              "            title=\"Convert this dataframe to an interactive table.\"\n",
              "            style=\"display:none;\">\n",
              "\n",
              "  <svg xmlns=\"http://www.w3.org/2000/svg\" height=\"24px\" viewBox=\"0 -960 960 960\">\n",
              "    <path d=\"M120-120v-720h720v720H120Zm60-500h600v-160H180v160Zm220 220h160v-160H400v160Zm0 220h160v-160H400v160ZM180-400h160v-160H180v160Zm440 0h160v-160H620v160ZM180-180h160v-160H180v160Zm440 0h160v-160H620v160Z\"/>\n",
              "  </svg>\n",
              "    </button>\n",
              "\n",
              "  <style>\n",
              "    .colab-df-container {\n",
              "      display:flex;\n",
              "      gap: 12px;\n",
              "    }\n",
              "\n",
              "    .colab-df-convert {\n",
              "      background-color: #E8F0FE;\n",
              "      border: none;\n",
              "      border-radius: 50%;\n",
              "      cursor: pointer;\n",
              "      display: none;\n",
              "      fill: #1967D2;\n",
              "      height: 32px;\n",
              "      padding: 0 0 0 0;\n",
              "      width: 32px;\n",
              "    }\n",
              "\n",
              "    .colab-df-convert:hover {\n",
              "      background-color: #E2EBFA;\n",
              "      box-shadow: 0px 1px 2px rgba(60, 64, 67, 0.3), 0px 1px 3px 1px rgba(60, 64, 67, 0.15);\n",
              "      fill: #174EA6;\n",
              "    }\n",
              "\n",
              "    .colab-df-buttons div {\n",
              "      margin-bottom: 4px;\n",
              "    }\n",
              "\n",
              "    [theme=dark] .colab-df-convert {\n",
              "      background-color: #3B4455;\n",
              "      fill: #D2E3FC;\n",
              "    }\n",
              "\n",
              "    [theme=dark] .colab-df-convert:hover {\n",
              "      background-color: #434B5C;\n",
              "      box-shadow: 0px 1px 3px 1px rgba(0, 0, 0, 0.15);\n",
              "      filter: drop-shadow(0px 1px 2px rgba(0, 0, 0, 0.3));\n",
              "      fill: #FFFFFF;\n",
              "    }\n",
              "  </style>\n",
              "\n",
              "    <script>\n",
              "      const buttonEl =\n",
              "        document.querySelector('#df-0d3f7337-1809-428d-9cc1-bf60349d7b4d button.colab-df-convert');\n",
              "      buttonEl.style.display =\n",
              "        google.colab.kernel.accessAllowed ? 'block' : 'none';\n",
              "\n",
              "      async function convertToInteractive(key) {\n",
              "        const element = document.querySelector('#df-0d3f7337-1809-428d-9cc1-bf60349d7b4d');\n",
              "        const dataTable =\n",
              "          await google.colab.kernel.invokeFunction('convertToInteractive',\n",
              "                                                    [key], {});\n",
              "        if (!dataTable) return;\n",
              "\n",
              "        const docLinkHtml = 'Like what you see? Visit the ' +\n",
              "          '<a target=\"_blank\" href=https://colab.research.google.com/notebooks/data_table.ipynb>data table notebook</a>'\n",
              "          + ' to learn more about interactive tables.';\n",
              "        element.innerHTML = '';\n",
              "        dataTable['output_type'] = 'display_data';\n",
              "        await google.colab.output.renderOutput(dataTable, element);\n",
              "        const docLink = document.createElement('div');\n",
              "        docLink.innerHTML = docLinkHtml;\n",
              "        element.appendChild(docLink);\n",
              "      }\n",
              "    </script>\n",
              "  </div>\n",
              "\n",
              "\n",
              "<div id=\"df-f5821b5b-b0e8-44a4-b59f-b32273f7d240\">\n",
              "  <button class=\"colab-df-quickchart\" onclick=\"quickchart('df-f5821b5b-b0e8-44a4-b59f-b32273f7d240')\"\n",
              "            title=\"Suggest charts.\"\n",
              "            style=\"display:none;\">\n",
              "\n",
              "<svg xmlns=\"http://www.w3.org/2000/svg\" height=\"24px\"viewBox=\"0 0 24 24\"\n",
              "     width=\"24px\">\n",
              "    <g>\n",
              "        <path d=\"M19 3H5c-1.1 0-2 .9-2 2v14c0 1.1.9 2 2 2h14c1.1 0 2-.9 2-2V5c0-1.1-.9-2-2-2zM9 17H7v-7h2v7zm4 0h-2V7h2v10zm4 0h-2v-4h2v4z\"/>\n",
              "    </g>\n",
              "</svg>\n",
              "  </button>\n",
              "\n",
              "<style>\n",
              "  .colab-df-quickchart {\n",
              "      --bg-color: #E8F0FE;\n",
              "      --fill-color: #1967D2;\n",
              "      --hover-bg-color: #E2EBFA;\n",
              "      --hover-fill-color: #174EA6;\n",
              "      --disabled-fill-color: #AAA;\n",
              "      --disabled-bg-color: #DDD;\n",
              "  }\n",
              "\n",
              "  [theme=dark] .colab-df-quickchart {\n",
              "      --bg-color: #3B4455;\n",
              "      --fill-color: #D2E3FC;\n",
              "      --hover-bg-color: #434B5C;\n",
              "      --hover-fill-color: #FFFFFF;\n",
              "      --disabled-bg-color: #3B4455;\n",
              "      --disabled-fill-color: #666;\n",
              "  }\n",
              "\n",
              "  .colab-df-quickchart {\n",
              "    background-color: var(--bg-color);\n",
              "    border: none;\n",
              "    border-radius: 50%;\n",
              "    cursor: pointer;\n",
              "    display: none;\n",
              "    fill: var(--fill-color);\n",
              "    height: 32px;\n",
              "    padding: 0;\n",
              "    width: 32px;\n",
              "  }\n",
              "\n",
              "  .colab-df-quickchart:hover {\n",
              "    background-color: var(--hover-bg-color);\n",
              "    box-shadow: 0 1px 2px rgba(60, 64, 67, 0.3), 0 1px 3px 1px rgba(60, 64, 67, 0.15);\n",
              "    fill: var(--button-hover-fill-color);\n",
              "  }\n",
              "\n",
              "  .colab-df-quickchart-complete:disabled,\n",
              "  .colab-df-quickchart-complete:disabled:hover {\n",
              "    background-color: var(--disabled-bg-color);\n",
              "    fill: var(--disabled-fill-color);\n",
              "    box-shadow: none;\n",
              "  }\n",
              "\n",
              "  .colab-df-spinner {\n",
              "    border: 2px solid var(--fill-color);\n",
              "    border-color: transparent;\n",
              "    border-bottom-color: var(--fill-color);\n",
              "    animation:\n",
              "      spin 1s steps(1) infinite;\n",
              "  }\n",
              "\n",
              "  @keyframes spin {\n",
              "    0% {\n",
              "      border-color: transparent;\n",
              "      border-bottom-color: var(--fill-color);\n",
              "      border-left-color: var(--fill-color);\n",
              "    }\n",
              "    20% {\n",
              "      border-color: transparent;\n",
              "      border-left-color: var(--fill-color);\n",
              "      border-top-color: var(--fill-color);\n",
              "    }\n",
              "    30% {\n",
              "      border-color: transparent;\n",
              "      border-left-color: var(--fill-color);\n",
              "      border-top-color: var(--fill-color);\n",
              "      border-right-color: var(--fill-color);\n",
              "    }\n",
              "    40% {\n",
              "      border-color: transparent;\n",
              "      border-right-color: var(--fill-color);\n",
              "      border-top-color: var(--fill-color);\n",
              "    }\n",
              "    60% {\n",
              "      border-color: transparent;\n",
              "      border-right-color: var(--fill-color);\n",
              "    }\n",
              "    80% {\n",
              "      border-color: transparent;\n",
              "      border-right-color: var(--fill-color);\n",
              "      border-bottom-color: var(--fill-color);\n",
              "    }\n",
              "    90% {\n",
              "      border-color: transparent;\n",
              "      border-bottom-color: var(--fill-color);\n",
              "    }\n",
              "  }\n",
              "</style>\n",
              "\n",
              "  <script>\n",
              "    async function quickchart(key) {\n",
              "      const quickchartButtonEl =\n",
              "        document.querySelector('#' + key + ' button');\n",
              "      quickchartButtonEl.disabled = true;  // To prevent multiple clicks.\n",
              "      quickchartButtonEl.classList.add('colab-df-spinner');\n",
              "      try {\n",
              "        const charts = await google.colab.kernel.invokeFunction(\n",
              "            'suggestCharts', [key], {});\n",
              "      } catch (error) {\n",
              "        console.error('Error during call to suggestCharts:', error);\n",
              "      }\n",
              "      quickchartButtonEl.classList.remove('colab-df-spinner');\n",
              "      quickchartButtonEl.classList.add('colab-df-quickchart-complete');\n",
              "    }\n",
              "    (() => {\n",
              "      let quickchartButtonEl =\n",
              "        document.querySelector('#df-f5821b5b-b0e8-44a4-b59f-b32273f7d240 button');\n",
              "      quickchartButtonEl.style.display =\n",
              "        google.colab.kernel.accessAllowed ? 'block' : 'none';\n",
              "    })();\n",
              "  </script>\n",
              "</div>\n",
              "    </div>\n",
              "  </div>\n"
            ]
          },
          "metadata": {},
          "execution_count": 4
        }
      ]
    },
    {
      "cell_type": "markdown",
      "source": [
        "\n",
        "Check the shape of the DataFrame to determine the number of rows and columns"
      ],
      "metadata": {
        "id": "FKGLMwR95XWr"
      }
    },
    {
      "cell_type": "code",
      "source": [
        "df.shape"
      ],
      "metadata": {
        "colab": {
          "base_uri": "https://localhost:8080/"
        },
        "id": "VkezWvbz5IyL",
        "outputId": "676cea3a-9bb9-4909-bf67-fe578acbd6ae"
      },
      "execution_count": null,
      "outputs": [
        {
          "output_type": "execute_result",
          "data": {
            "text/plain": [
              "(1030, 9)"
            ]
          },
          "metadata": {},
          "execution_count": 5
        }
      ]
    },
    {
      "cell_type": "markdown",
      "source": [
        "Display summary statistics of the DataFrame"
      ],
      "metadata": {
        "id": "ekRiDGeoALrF"
      }
    },
    {
      "cell_type": "code",
      "source": [
        "df.describe()"
      ],
      "metadata": {
        "colab": {
          "base_uri": "https://localhost:8080/",
          "height": 355
        },
        "id": "wIpYXwEa5cJJ",
        "outputId": "71b3fa59-8822-4622-fa2f-65169a276f7c"
      },
      "execution_count": null,
      "outputs": [
        {
          "output_type": "execute_result",
          "data": {
            "text/plain": [
              "            Cement  Blast Furnace Slag      Fly Ash        Water  \\\n",
              "count  1030.000000         1030.000000  1030.000000  1030.000000   \n",
              "mean    281.167864           73.895825    54.188350   181.567282   \n",
              "std     104.506364           86.279342    63.997004    21.354219   \n",
              "min     102.000000            0.000000     0.000000   121.800000   \n",
              "25%     192.375000            0.000000     0.000000   164.900000   \n",
              "50%     272.900000           22.000000     0.000000   185.000000   \n",
              "75%     350.000000          142.950000   118.300000   192.000000   \n",
              "max     540.000000          359.400000   200.100000   247.000000   \n",
              "\n",
              "       Superplasticizer  Coarse Aggregate  Fine Aggregate          Age  \\\n",
              "count       1030.000000       1030.000000     1030.000000  1030.000000   \n",
              "mean           6.204660        972.918932      773.580485    45.662136   \n",
              "std            5.973841         77.753954       80.175980    63.169912   \n",
              "min            0.000000        801.000000      594.000000     1.000000   \n",
              "25%            0.000000        932.000000      730.950000     7.000000   \n",
              "50%            6.400000        968.000000      779.500000    28.000000   \n",
              "75%           10.200000       1029.400000      824.000000    56.000000   \n",
              "max           32.200000       1145.000000      992.600000   365.000000   \n",
              "\n",
              "          Strength  \n",
              "count  1030.000000  \n",
              "mean     35.817961  \n",
              "std      16.705742  \n",
              "min       2.330000  \n",
              "25%      23.710000  \n",
              "50%      34.445000  \n",
              "75%      46.135000  \n",
              "max      82.600000  "
            ],
            "text/html": [
              "\n",
              "  <div id=\"df-c50cfd73-f0ee-4614-9453-3a2b2c1b177f\" class=\"colab-df-container\">\n",
              "    <div>\n",
              "<style scoped>\n",
              "    .dataframe tbody tr th:only-of-type {\n",
              "        vertical-align: middle;\n",
              "    }\n",
              "\n",
              "    .dataframe tbody tr th {\n",
              "        vertical-align: top;\n",
              "    }\n",
              "\n",
              "    .dataframe thead th {\n",
              "        text-align: right;\n",
              "    }\n",
              "</style>\n",
              "<table border=\"1\" class=\"dataframe\">\n",
              "  <thead>\n",
              "    <tr style=\"text-align: right;\">\n",
              "      <th></th>\n",
              "      <th>Cement</th>\n",
              "      <th>Blast Furnace Slag</th>\n",
              "      <th>Fly Ash</th>\n",
              "      <th>Water</th>\n",
              "      <th>Superplasticizer</th>\n",
              "      <th>Coarse Aggregate</th>\n",
              "      <th>Fine Aggregate</th>\n",
              "      <th>Age</th>\n",
              "      <th>Strength</th>\n",
              "    </tr>\n",
              "  </thead>\n",
              "  <tbody>\n",
              "    <tr>\n",
              "      <th>count</th>\n",
              "      <td>1030.000000</td>\n",
              "      <td>1030.000000</td>\n",
              "      <td>1030.000000</td>\n",
              "      <td>1030.000000</td>\n",
              "      <td>1030.000000</td>\n",
              "      <td>1030.000000</td>\n",
              "      <td>1030.000000</td>\n",
              "      <td>1030.000000</td>\n",
              "      <td>1030.000000</td>\n",
              "    </tr>\n",
              "    <tr>\n",
              "      <th>mean</th>\n",
              "      <td>281.167864</td>\n",
              "      <td>73.895825</td>\n",
              "      <td>54.188350</td>\n",
              "      <td>181.567282</td>\n",
              "      <td>6.204660</td>\n",
              "      <td>972.918932</td>\n",
              "      <td>773.580485</td>\n",
              "      <td>45.662136</td>\n",
              "      <td>35.817961</td>\n",
              "    </tr>\n",
              "    <tr>\n",
              "      <th>std</th>\n",
              "      <td>104.506364</td>\n",
              "      <td>86.279342</td>\n",
              "      <td>63.997004</td>\n",
              "      <td>21.354219</td>\n",
              "      <td>5.973841</td>\n",
              "      <td>77.753954</td>\n",
              "      <td>80.175980</td>\n",
              "      <td>63.169912</td>\n",
              "      <td>16.705742</td>\n",
              "    </tr>\n",
              "    <tr>\n",
              "      <th>min</th>\n",
              "      <td>102.000000</td>\n",
              "      <td>0.000000</td>\n",
              "      <td>0.000000</td>\n",
              "      <td>121.800000</td>\n",
              "      <td>0.000000</td>\n",
              "      <td>801.000000</td>\n",
              "      <td>594.000000</td>\n",
              "      <td>1.000000</td>\n",
              "      <td>2.330000</td>\n",
              "    </tr>\n",
              "    <tr>\n",
              "      <th>25%</th>\n",
              "      <td>192.375000</td>\n",
              "      <td>0.000000</td>\n",
              "      <td>0.000000</td>\n",
              "      <td>164.900000</td>\n",
              "      <td>0.000000</td>\n",
              "      <td>932.000000</td>\n",
              "      <td>730.950000</td>\n",
              "      <td>7.000000</td>\n",
              "      <td>23.710000</td>\n",
              "    </tr>\n",
              "    <tr>\n",
              "      <th>50%</th>\n",
              "      <td>272.900000</td>\n",
              "      <td>22.000000</td>\n",
              "      <td>0.000000</td>\n",
              "      <td>185.000000</td>\n",
              "      <td>6.400000</td>\n",
              "      <td>968.000000</td>\n",
              "      <td>779.500000</td>\n",
              "      <td>28.000000</td>\n",
              "      <td>34.445000</td>\n",
              "    </tr>\n",
              "    <tr>\n",
              "      <th>75%</th>\n",
              "      <td>350.000000</td>\n",
              "      <td>142.950000</td>\n",
              "      <td>118.300000</td>\n",
              "      <td>192.000000</td>\n",
              "      <td>10.200000</td>\n",
              "      <td>1029.400000</td>\n",
              "      <td>824.000000</td>\n",
              "      <td>56.000000</td>\n",
              "      <td>46.135000</td>\n",
              "    </tr>\n",
              "    <tr>\n",
              "      <th>max</th>\n",
              "      <td>540.000000</td>\n",
              "      <td>359.400000</td>\n",
              "      <td>200.100000</td>\n",
              "      <td>247.000000</td>\n",
              "      <td>32.200000</td>\n",
              "      <td>1145.000000</td>\n",
              "      <td>992.600000</td>\n",
              "      <td>365.000000</td>\n",
              "      <td>82.600000</td>\n",
              "    </tr>\n",
              "  </tbody>\n",
              "</table>\n",
              "</div>\n",
              "    <div class=\"colab-df-buttons\">\n",
              "\n",
              "  <div class=\"colab-df-container\">\n",
              "    <button class=\"colab-df-convert\" onclick=\"convertToInteractive('df-c50cfd73-f0ee-4614-9453-3a2b2c1b177f')\"\n",
              "            title=\"Convert this dataframe to an interactive table.\"\n",
              "            style=\"display:none;\">\n",
              "\n",
              "  <svg xmlns=\"http://www.w3.org/2000/svg\" height=\"24px\" viewBox=\"0 -960 960 960\">\n",
              "    <path d=\"M120-120v-720h720v720H120Zm60-500h600v-160H180v160Zm220 220h160v-160H400v160Zm0 220h160v-160H400v160ZM180-400h160v-160H180v160Zm440 0h160v-160H620v160ZM180-180h160v-160H180v160Zm440 0h160v-160H620v160Z\"/>\n",
              "  </svg>\n",
              "    </button>\n",
              "\n",
              "  <style>\n",
              "    .colab-df-container {\n",
              "      display:flex;\n",
              "      gap: 12px;\n",
              "    }\n",
              "\n",
              "    .colab-df-convert {\n",
              "      background-color: #E8F0FE;\n",
              "      border: none;\n",
              "      border-radius: 50%;\n",
              "      cursor: pointer;\n",
              "      display: none;\n",
              "      fill: #1967D2;\n",
              "      height: 32px;\n",
              "      padding: 0 0 0 0;\n",
              "      width: 32px;\n",
              "    }\n",
              "\n",
              "    .colab-df-convert:hover {\n",
              "      background-color: #E2EBFA;\n",
              "      box-shadow: 0px 1px 2px rgba(60, 64, 67, 0.3), 0px 1px 3px 1px rgba(60, 64, 67, 0.15);\n",
              "      fill: #174EA6;\n",
              "    }\n",
              "\n",
              "    .colab-df-buttons div {\n",
              "      margin-bottom: 4px;\n",
              "    }\n",
              "\n",
              "    [theme=dark] .colab-df-convert {\n",
              "      background-color: #3B4455;\n",
              "      fill: #D2E3FC;\n",
              "    }\n",
              "\n",
              "    [theme=dark] .colab-df-convert:hover {\n",
              "      background-color: #434B5C;\n",
              "      box-shadow: 0px 1px 3px 1px rgba(0, 0, 0, 0.15);\n",
              "      filter: drop-shadow(0px 1px 2px rgba(0, 0, 0, 0.3));\n",
              "      fill: #FFFFFF;\n",
              "    }\n",
              "  </style>\n",
              "\n",
              "    <script>\n",
              "      const buttonEl =\n",
              "        document.querySelector('#df-c50cfd73-f0ee-4614-9453-3a2b2c1b177f button.colab-df-convert');\n",
              "      buttonEl.style.display =\n",
              "        google.colab.kernel.accessAllowed ? 'block' : 'none';\n",
              "\n",
              "      async function convertToInteractive(key) {\n",
              "        const element = document.querySelector('#df-c50cfd73-f0ee-4614-9453-3a2b2c1b177f');\n",
              "        const dataTable =\n",
              "          await google.colab.kernel.invokeFunction('convertToInteractive',\n",
              "                                                    [key], {});\n",
              "        if (!dataTable) return;\n",
              "\n",
              "        const docLinkHtml = 'Like what you see? Visit the ' +\n",
              "          '<a target=\"_blank\" href=https://colab.research.google.com/notebooks/data_table.ipynb>data table notebook</a>'\n",
              "          + ' to learn more about interactive tables.';\n",
              "        element.innerHTML = '';\n",
              "        dataTable['output_type'] = 'display_data';\n",
              "        await google.colab.output.renderOutput(dataTable, element);\n",
              "        const docLink = document.createElement('div');\n",
              "        docLink.innerHTML = docLinkHtml;\n",
              "        element.appendChild(docLink);\n",
              "      }\n",
              "    </script>\n",
              "  </div>\n",
              "\n",
              "\n",
              "<div id=\"df-864e3a79-befe-4b3c-845c-60c00bd749bc\">\n",
              "  <button class=\"colab-df-quickchart\" onclick=\"quickchart('df-864e3a79-befe-4b3c-845c-60c00bd749bc')\"\n",
              "            title=\"Suggest charts.\"\n",
              "            style=\"display:none;\">\n",
              "\n",
              "<svg xmlns=\"http://www.w3.org/2000/svg\" height=\"24px\"viewBox=\"0 0 24 24\"\n",
              "     width=\"24px\">\n",
              "    <g>\n",
              "        <path d=\"M19 3H5c-1.1 0-2 .9-2 2v14c0 1.1.9 2 2 2h14c1.1 0 2-.9 2-2V5c0-1.1-.9-2-2-2zM9 17H7v-7h2v7zm4 0h-2V7h2v10zm4 0h-2v-4h2v4z\"/>\n",
              "    </g>\n",
              "</svg>\n",
              "  </button>\n",
              "\n",
              "<style>\n",
              "  .colab-df-quickchart {\n",
              "      --bg-color: #E8F0FE;\n",
              "      --fill-color: #1967D2;\n",
              "      --hover-bg-color: #E2EBFA;\n",
              "      --hover-fill-color: #174EA6;\n",
              "      --disabled-fill-color: #AAA;\n",
              "      --disabled-bg-color: #DDD;\n",
              "  }\n",
              "\n",
              "  [theme=dark] .colab-df-quickchart {\n",
              "      --bg-color: #3B4455;\n",
              "      --fill-color: #D2E3FC;\n",
              "      --hover-bg-color: #434B5C;\n",
              "      --hover-fill-color: #FFFFFF;\n",
              "      --disabled-bg-color: #3B4455;\n",
              "      --disabled-fill-color: #666;\n",
              "  }\n",
              "\n",
              "  .colab-df-quickchart {\n",
              "    background-color: var(--bg-color);\n",
              "    border: none;\n",
              "    border-radius: 50%;\n",
              "    cursor: pointer;\n",
              "    display: none;\n",
              "    fill: var(--fill-color);\n",
              "    height: 32px;\n",
              "    padding: 0;\n",
              "    width: 32px;\n",
              "  }\n",
              "\n",
              "  .colab-df-quickchart:hover {\n",
              "    background-color: var(--hover-bg-color);\n",
              "    box-shadow: 0 1px 2px rgba(60, 64, 67, 0.3), 0 1px 3px 1px rgba(60, 64, 67, 0.15);\n",
              "    fill: var(--button-hover-fill-color);\n",
              "  }\n",
              "\n",
              "  .colab-df-quickchart-complete:disabled,\n",
              "  .colab-df-quickchart-complete:disabled:hover {\n",
              "    background-color: var(--disabled-bg-color);\n",
              "    fill: var(--disabled-fill-color);\n",
              "    box-shadow: none;\n",
              "  }\n",
              "\n",
              "  .colab-df-spinner {\n",
              "    border: 2px solid var(--fill-color);\n",
              "    border-color: transparent;\n",
              "    border-bottom-color: var(--fill-color);\n",
              "    animation:\n",
              "      spin 1s steps(1) infinite;\n",
              "  }\n",
              "\n",
              "  @keyframes spin {\n",
              "    0% {\n",
              "      border-color: transparent;\n",
              "      border-bottom-color: var(--fill-color);\n",
              "      border-left-color: var(--fill-color);\n",
              "    }\n",
              "    20% {\n",
              "      border-color: transparent;\n",
              "      border-left-color: var(--fill-color);\n",
              "      border-top-color: var(--fill-color);\n",
              "    }\n",
              "    30% {\n",
              "      border-color: transparent;\n",
              "      border-left-color: var(--fill-color);\n",
              "      border-top-color: var(--fill-color);\n",
              "      border-right-color: var(--fill-color);\n",
              "    }\n",
              "    40% {\n",
              "      border-color: transparent;\n",
              "      border-right-color: var(--fill-color);\n",
              "      border-top-color: var(--fill-color);\n",
              "    }\n",
              "    60% {\n",
              "      border-color: transparent;\n",
              "      border-right-color: var(--fill-color);\n",
              "    }\n",
              "    80% {\n",
              "      border-color: transparent;\n",
              "      border-right-color: var(--fill-color);\n",
              "      border-bottom-color: var(--fill-color);\n",
              "    }\n",
              "    90% {\n",
              "      border-color: transparent;\n",
              "      border-bottom-color: var(--fill-color);\n",
              "    }\n",
              "  }\n",
              "</style>\n",
              "\n",
              "  <script>\n",
              "    async function quickchart(key) {\n",
              "      const quickchartButtonEl =\n",
              "        document.querySelector('#' + key + ' button');\n",
              "      quickchartButtonEl.disabled = true;  // To prevent multiple clicks.\n",
              "      quickchartButtonEl.classList.add('colab-df-spinner');\n",
              "      try {\n",
              "        const charts = await google.colab.kernel.invokeFunction(\n",
              "            'suggestCharts', [key], {});\n",
              "      } catch (error) {\n",
              "        console.error('Error during call to suggestCharts:', error);\n",
              "      }\n",
              "      quickchartButtonEl.classList.remove('colab-df-spinner');\n",
              "      quickchartButtonEl.classList.add('colab-df-quickchart-complete');\n",
              "    }\n",
              "    (() => {\n",
              "      let quickchartButtonEl =\n",
              "        document.querySelector('#df-864e3a79-befe-4b3c-845c-60c00bd749bc button');\n",
              "      quickchartButtonEl.style.display =\n",
              "        google.colab.kernel.accessAllowed ? 'block' : 'none';\n",
              "    })();\n",
              "  </script>\n",
              "</div>\n",
              "    </div>\n",
              "  </div>\n"
            ]
          },
          "metadata": {},
          "execution_count": 6
        }
      ]
    },
    {
      "cell_type": "markdown",
      "source": [
        "Display information about the DataFrame, including data types and non-null counts"
      ],
      "metadata": {
        "id": "g0PqoC3JAPHf"
      }
    },
    {
      "cell_type": "code",
      "source": [
        "df.info()"
      ],
      "metadata": {
        "colab": {
          "base_uri": "https://localhost:8080/"
        },
        "id": "55j0uzAl5e9I",
        "outputId": "4eab475b-cc19-47a3-907d-997e44e8da68"
      },
      "execution_count": null,
      "outputs": [
        {
          "output_type": "stream",
          "name": "stdout",
          "text": [
            "<class 'pandas.core.frame.DataFrame'>\n",
            "RangeIndex: 1030 entries, 0 to 1029\n",
            "Data columns (total 9 columns):\n",
            " #   Column              Non-Null Count  Dtype  \n",
            "---  ------              --------------  -----  \n",
            " 0   Cement              1030 non-null   float64\n",
            " 1   Blast Furnace Slag  1030 non-null   float64\n",
            " 2   Fly Ash             1030 non-null   float64\n",
            " 3   Water               1030 non-null   float64\n",
            " 4   Superplasticizer    1030 non-null   float64\n",
            " 5   Coarse Aggregate    1030 non-null   float64\n",
            " 6   Fine Aggregate      1030 non-null   float64\n",
            " 7   Age                 1030 non-null   int64  \n",
            " 8   Strength            1030 non-null   float64\n",
            "dtypes: float64(8), int64(1)\n",
            "memory usage: 72.5 KB\n"
          ]
        }
      ]
    },
    {
      "cell_type": "markdown",
      "source": [
        "Calculate the number of missing values (NaN) for each column in the DataFrame"
      ],
      "metadata": {
        "id": "0zaRt-4xBPDM"
      }
    },
    {
      "cell_type": "code",
      "source": [
        "df.isna().sum()"
      ],
      "metadata": {
        "colab": {
          "base_uri": "https://localhost:8080/"
        },
        "id": "77sH1dXZ5gSJ",
        "outputId": "f909fefe-f119-47f5-d181-e2e3f5e9068c"
      },
      "execution_count": null,
      "outputs": [
        {
          "output_type": "execute_result",
          "data": {
            "text/plain": [
              "Cement                0\n",
              "Blast Furnace Slag    0\n",
              "Fly Ash               0\n",
              "Water                 0\n",
              "Superplasticizer      0\n",
              "Coarse Aggregate      0\n",
              "Fine Aggregate        0\n",
              "Age                   0\n",
              "Strength              0\n",
              "dtype: int64"
            ]
          },
          "metadata": {},
          "execution_count": 8
        }
      ]
    },
    {
      "cell_type": "markdown",
      "source": [
        "Create a list of features by selecting all columns except 'Strength'"
      ],
      "metadata": {
        "id": "KS5tA12FBSOu"
      }
    },
    {
      "cell_type": "code",
      "source": [
        "features = [col for col in df.columns if col != 'Strength']\n",
        "print('features:', features)"
      ],
      "metadata": {
        "colab": {
          "base_uri": "https://localhost:8080/"
        },
        "id": "mxn1Z6q46Nz6",
        "outputId": "986add47-49de-4ae8-b108-4391cc6ac057"
      },
      "execution_count": null,
      "outputs": [
        {
          "output_type": "stream",
          "name": "stdout",
          "text": [
            "features: ['Cement', 'Blast Furnace Slag', 'Fly Ash', 'Water', 'Superplasticizer', 'Coarse Aggregate', 'Fine Aggregate', 'Age']\n"
          ]
        }
      ]
    },
    {
      "cell_type": "markdown",
      "source": [
        "Extract the 'Strength' column as the target variable and convert it to a NumPy array"
      ],
      "metadata": {
        "id": "fwJT8TNhBYcM"
      }
    },
    {
      "cell_type": "code",
      "source": [
        "target = df.Strength.to_numpy()"
      ],
      "metadata": {
        "id": "z6GG6B0SBYwZ"
      },
      "execution_count": null,
      "outputs": []
    },
    {
      "cell_type": "markdown",
      "source": [
        "## Task # 01\n",
        "Randomly split the data into a training and test sets by holding 30% of the data for testing. You can use the train_test_split helper function from Scikit-learn."
      ],
      "metadata": {
        "id": "BnkkDY8M9Efl"
      }
    },
    {
      "cell_type": "code",
      "source": [
        "# Split the dataset into training and testing sets with a 70-30 split ratio and a fixed random seed\n",
        "x_train, x_test, y_train, y_test = train_test_split(df[features], target, test_size=0.3, random_state=0)\n",
        "\n",
        "print(f'number of rows and number of features in xtrain: {x_train.shape}')\n",
        "print(f'number of rows in ytrain: {y_train.shape}')\n",
        "print(f'number of rows and number of features in x_test: {x_test.shape}')\n",
        "print(f'number of rows in y_test: {y_test.shape}')"
      ],
      "metadata": {
        "colab": {
          "base_uri": "https://localhost:8080/"
        },
        "id": "-WENdUp85p95",
        "outputId": "2e834151-5040-4729-a927-99848ca0a09b"
      },
      "execution_count": null,
      "outputs": [
        {
          "output_type": "stream",
          "name": "stdout",
          "text": [
            "number of rows and number of features in xtrain: (721, 8)\n",
            "number of rows in ytrain: (721,)\n",
            "number of rows and number of features in x_test: (309, 8)\n",
            "number of rows in y_test: (309,)\n"
          ]
        }
      ]
    },
    {
      "cell_type": "code",
      "source": [
        "# Determine the number of columns in the feature dataset\n",
        "n_cols = df[features].shape[1]\n",
        "n_cols"
      ],
      "metadata": {
        "colab": {
          "base_uri": "https://localhost:8080/"
        },
        "id": "rKQNpteo8KsP",
        "outputId": "7d76174a-d3a1-4397-b669-2c230048757d"
      },
      "execution_count": null,
      "outputs": [
        {
          "output_type": "execute_result",
          "data": {
            "text/plain": [
              "8"
            ]
          },
          "metadata": {},
          "execution_count": 12
        }
      ]
    },
    {
      "cell_type": "markdown",
      "source": [
        "## Task # 02\n",
        "Train the model on the training data using 50 epochs."
      ],
      "metadata": {
        "id": "P4EEKd5c9Tcu"
      }
    },
    {
      "cell_type": "markdown",
      "source": [
        "### Create Regression Model\n",
        "\n",
        "1.   One hidden layer of 10 nodes, and a ReLU activation function.\n",
        "2.   Use the adam optimizer and the mean squared error as the loss function.\n",
        "\n"
      ],
      "metadata": {
        "id": "8hTf0H-87n88"
      }
    },
    {
      "cell_type": "code",
      "source": [
        "# Define a function to create a regression model\n",
        "def RegressionModel():\n",
        "    # Create a sequential model\n",
        "    model = Sequential()\n",
        "    # One hidden layer of 10 nodes, and a ReLU activation function\n",
        "    model.add(Dense(10, activation='relu', input_shape=(n_cols,)))\n",
        "    # Add the output layer with 1 node\n",
        "    model.add(Dense(1))\n",
        "\n",
        "    # Compile the model using the Adam optimizer and mean squared error as the loss function\n",
        "    model.compile(optimizer='adam', loss='mean_squared_error')\n",
        "    return model"
      ],
      "metadata": {
        "id": "vb8wza2z7NZM"
      },
      "execution_count": null,
      "outputs": []
    },
    {
      "cell_type": "code",
      "source": [
        "# Create the regression model\n",
        "model = RegressionModel()"
      ],
      "metadata": {
        "id": "SzT1uCoS8Uh7"
      },
      "execution_count": null,
      "outputs": []
    },
    {
      "cell_type": "code",
      "source": [
        "# Set the number of training epochs\n",
        "n_epochs = 50\n",
        "\n",
        "# Train the model on the training data\n",
        "model.fit(x_train, y_train, epochs=n_epochs, verbose=1)"
      ],
      "metadata": {
        "colab": {
          "base_uri": "https://localhost:8080/"
        },
        "id": "0_dZLSbw8fGN",
        "outputId": "452a60a7-32a1-44fa-ab1d-ab49a4d448fd"
      },
      "execution_count": null,
      "outputs": [
        {
          "output_type": "stream",
          "name": "stdout",
          "text": [
            "Epoch 1/50\n",
            "23/23 [==============================] - 1s 4ms/step - loss: 1335.7947\n",
            "Epoch 2/50\n",
            "23/23 [==============================] - 0s 3ms/step - loss: 709.0170\n",
            "Epoch 3/50\n",
            "23/23 [==============================] - 0s 3ms/step - loss: 446.4745\n",
            "Epoch 4/50\n",
            "23/23 [==============================] - 0s 4ms/step - loss: 350.0590\n",
            "Epoch 5/50\n",
            "23/23 [==============================] - 0s 3ms/step - loss: 303.8536\n",
            "Epoch 6/50\n",
            "23/23 [==============================] - 0s 3ms/step - loss: 282.2332\n",
            "Epoch 7/50\n",
            "23/23 [==============================] - 0s 3ms/step - loss: 266.5703\n",
            "Epoch 8/50\n",
            "23/23 [==============================] - 0s 4ms/step - loss: 252.5384\n",
            "Epoch 9/50\n",
            "23/23 [==============================] - 0s 6ms/step - loss: 243.9272\n",
            "Epoch 10/50\n",
            "23/23 [==============================] - 0s 7ms/step - loss: 237.0764\n",
            "Epoch 11/50\n",
            "23/23 [==============================] - 0s 6ms/step - loss: 232.4467\n",
            "Epoch 12/50\n",
            "23/23 [==============================] - 0s 4ms/step - loss: 226.3958\n",
            "Epoch 13/50\n",
            "23/23 [==============================] - 0s 9ms/step - loss: 217.8738\n",
            "Epoch 14/50\n",
            "23/23 [==============================] - 0s 5ms/step - loss: 212.5562\n",
            "Epoch 15/50\n",
            "23/23 [==============================] - 0s 5ms/step - loss: 207.8769\n",
            "Epoch 16/50\n",
            "23/23 [==============================] - 0s 5ms/step - loss: 206.1216\n",
            "Epoch 17/50\n",
            "23/23 [==============================] - 0s 7ms/step - loss: 197.3684\n",
            "Epoch 18/50\n",
            "23/23 [==============================] - 0s 5ms/step - loss: 188.6826\n",
            "Epoch 19/50\n",
            "23/23 [==============================] - 0s 4ms/step - loss: 184.0149\n",
            "Epoch 20/50\n",
            "23/23 [==============================] - 0s 7ms/step - loss: 176.1656\n",
            "Epoch 21/50\n",
            "23/23 [==============================] - 0s 6ms/step - loss: 171.3129\n",
            "Epoch 22/50\n",
            "23/23 [==============================] - 0s 6ms/step - loss: 166.4726\n",
            "Epoch 23/50\n",
            "23/23 [==============================] - 0s 6ms/step - loss: 163.9828\n",
            "Epoch 24/50\n",
            "23/23 [==============================] - 0s 4ms/step - loss: 161.5588\n",
            "Epoch 25/50\n",
            "23/23 [==============================] - 0s 6ms/step - loss: 158.8925\n",
            "Epoch 26/50\n",
            "23/23 [==============================] - 0s 4ms/step - loss: 147.5631\n",
            "Epoch 27/50\n",
            "23/23 [==============================] - 0s 6ms/step - loss: 144.3126\n",
            "Epoch 28/50\n",
            "23/23 [==============================] - 0s 5ms/step - loss: 141.1066\n",
            "Epoch 29/50\n",
            "23/23 [==============================] - 0s 3ms/step - loss: 136.9100\n",
            "Epoch 30/50\n",
            "23/23 [==============================] - 0s 4ms/step - loss: 138.0424\n",
            "Epoch 31/50\n",
            "23/23 [==============================] - 0s 4ms/step - loss: 130.5580\n",
            "Epoch 32/50\n",
            "23/23 [==============================] - 0s 5ms/step - loss: 130.1932\n",
            "Epoch 33/50\n",
            "23/23 [==============================] - 0s 4ms/step - loss: 122.2177\n",
            "Epoch 34/50\n",
            "23/23 [==============================] - 0s 5ms/step - loss: 120.3749\n",
            "Epoch 35/50\n",
            "23/23 [==============================] - 0s 7ms/step - loss: 117.4124\n",
            "Epoch 36/50\n",
            "23/23 [==============================] - 0s 6ms/step - loss: 117.6145\n",
            "Epoch 37/50\n",
            "23/23 [==============================] - 0s 4ms/step - loss: 112.7539\n",
            "Epoch 38/50\n",
            "23/23 [==============================] - 0s 3ms/step - loss: 111.6217\n",
            "Epoch 39/50\n",
            "23/23 [==============================] - 0s 2ms/step - loss: 110.5012\n",
            "Epoch 40/50\n",
            "23/23 [==============================] - 0s 2ms/step - loss: 108.3219\n",
            "Epoch 41/50\n",
            "23/23 [==============================] - 0s 4ms/step - loss: 102.8568\n",
            "Epoch 42/50\n",
            "23/23 [==============================] - 0s 2ms/step - loss: 103.7873\n",
            "Epoch 43/50\n",
            "23/23 [==============================] - 0s 4ms/step - loss: 102.0684\n",
            "Epoch 44/50\n",
            "23/23 [==============================] - 0s 3ms/step - loss: 98.5118\n",
            "Epoch 45/50\n",
            "23/23 [==============================] - 0s 4ms/step - loss: 100.0255\n",
            "Epoch 46/50\n",
            "23/23 [==============================] - 0s 5ms/step - loss: 97.7788\n",
            "Epoch 47/50\n",
            "23/23 [==============================] - 0s 4ms/step - loss: 94.0446\n",
            "Epoch 48/50\n",
            "23/23 [==============================] - 0s 4ms/step - loss: 91.6299\n",
            "Epoch 49/50\n",
            "23/23 [==============================] - 0s 3ms/step - loss: 91.6930\n",
            "Epoch 50/50\n",
            "23/23 [==============================] - 0s 2ms/step - loss: 88.3690\n"
          ]
        },
        {
          "output_type": "execute_result",
          "data": {
            "text/plain": [
              "<keras.src.callbacks.History at 0x7e66da2fd990>"
            ]
          },
          "metadata": {},
          "execution_count": 15
        }
      ]
    },
    {
      "cell_type": "markdown",
      "source": [
        "## Task # 03\n",
        "Evaluate the model on the test data and compute the mean squared error between the predicted concrete strength and the actual concrete strength. You can use the mean_squared_error function from Scikit-learn."
      ],
      "metadata": {
        "id": "6bvXQMmL9fNz"
      }
    },
    {
      "cell_type": "code",
      "source": [
        "# Make predictions on the test data\n",
        "y_hat = model.predict(x_test, verbose=0)\n",
        "\n",
        "# Calculate and print the mean squared error between the predicted and actual target values\n",
        "mse = mean_squared_error(y_test, y_hat)\n",
        "\n",
        "print(f'Mean Squared Error: {mse}')"
      ],
      "metadata": {
        "colab": {
          "base_uri": "https://localhost:8080/"
        },
        "id": "nFN6-DQW8i5h",
        "outputId": "b1ce7482-d4ed-497d-e83f-ccf718b45d69"
      },
      "execution_count": null,
      "outputs": [
        {
          "output_type": "stream",
          "name": "stdout",
          "text": [
            "Mean Squared Error: 93.51449963967852\n"
          ]
        }
      ]
    },
    {
      "cell_type": "markdown",
      "source": [
        "## Task # 04\n",
        "Repeat steps 1-3, 50 times, i.e., create a list of 50 mean squared errors."
      ],
      "metadata": {
        "id": "y9RowIjE9uRF"
      }
    },
    {
      "cell_type": "code",
      "source": [
        "# Create an empty list to store mean squared errors\n",
        "mse_list = []\n",
        "\n",
        "# Set the number of runs\n",
        "n_runs = 50\n",
        "\n",
        "# Repeat the following steps 50 times, varying the random_state for data splitting\n",
        "for i in range(n_runs):\n",
        "    # Split the data into training and test sets (70% train, 30% test) with different random_state values\n",
        "    x_train, x_test, y_train, y_test = train_test_split(df[features], target, test_size=0.3, random_state=i)\n",
        "\n",
        "    # Create the regression model\n",
        "    model = RegressionModel()\n",
        "\n",
        "    # Train the model on the training data using n_epochs=50 epochs\n",
        "    model.fit(x_train, y_train, epochs=n_epochs, verbose=0)\n",
        "\n",
        "    # Make predictions on the test data\n",
        "    y_hat = model.predict(x_test, verbose=0)\n",
        "\n",
        "    # Evaluate the model on the test data and calculate mean squared error\n",
        "    mean_square_error = mean_squared_error(y_test, y_hat)\n",
        "    print(f'Mean Squared Error in Run {i + 1}: {mean_square_error}')\n",
        "\n",
        "    # Append the calculated mean squared error to the list\n",
        "    mse_list.append(mean_square_error)"
      ],
      "metadata": {
        "colab": {
          "base_uri": "https://localhost:8080/"
        },
        "id": "7bjpOJZyC6AU",
        "outputId": "bfbd5881-c959-4f37-8781-b49df7dd03f8"
      },
      "execution_count": null,
      "outputs": [
        {
          "output_type": "stream",
          "name": "stdout",
          "text": [
            "Mean Squared Error in Run 1: 131.08550460908262\n",
            "Mean Squared Error in Run 2: 189.21110429031575\n",
            "Mean Squared Error in Run 3: 629.4631988062431\n",
            "Mean Squared Error in Run 4: 308.6146440552042\n",
            "Mean Squared Error in Run 5: 132.94047307241527\n",
            "Mean Squared Error in Run 6: 207.50724780361773\n",
            "Mean Squared Error in Run 7: 239.04248997534825\n",
            "Mean Squared Error in Run 8: 196.1955242252603\n",
            "Mean Squared Error in Run 9: 133.77493792822852\n",
            "Mean Squared Error in Run 10: 124.42138579338013\n",
            "Mean Squared Error in Run 11: 127.009666007356\n",
            "Mean Squared Error in Run 12: 172.29787316647923\n",
            "Mean Squared Error in Run 13: 948.364836997371\n",
            "Mean Squared Error in Run 14: 779.1939230026834\n",
            "Mean Squared Error in Run 15: 574.5000046403426\n",
            "Mean Squared Error in Run 16: 243.2492393006403\n",
            "Mean Squared Error in Run 17: 1693.2447891031154\n",
            "Mean Squared Error in Run 18: 134.11276859341586\n",
            "Mean Squared Error in Run 19: 100.36676572978307\n",
            "Mean Squared Error in Run 20: 1028.6279138407976\n",
            "Mean Squared Error in Run 21: 132.23668172730964\n",
            "Mean Squared Error in Run 22: 141.72396617546877\n",
            "Mean Squared Error in Run 23: 132.9940086915216\n",
            "Mean Squared Error in Run 24: 126.65463939972258\n",
            "Mean Squared Error in Run 25: 383.7348559677983\n",
            "Mean Squared Error in Run 26: 333.91895009396677\n",
            "Mean Squared Error in Run 27: 132.31078018129315\n",
            "Mean Squared Error in Run 28: 243.31252406430198\n",
            "Mean Squared Error in Run 29: 133.45379437594576\n",
            "Mean Squared Error in Run 30: 460.486990296274\n",
            "Mean Squared Error in Run 31: 199.03531855670317\n",
            "Mean Squared Error in Run 32: 1142.2238396413136\n",
            "Mean Squared Error in Run 33: 178.93825623670637\n",
            "Mean Squared Error in Run 34: 333.01397863706416\n",
            "Mean Squared Error in Run 35: 132.88182586783972\n",
            "Mean Squared Error in Run 36: 169.087652820513\n",
            "Mean Squared Error in Run 37: 121.45481339601864\n",
            "Mean Squared Error in Run 38: 164.50690639976693\n",
            "Mean Squared Error in Run 39: 112.71949433280474\n",
            "Mean Squared Error in Run 40: 1269.1851340429291\n",
            "Mean Squared Error in Run 41: 394.005615423835\n",
            "Mean Squared Error in Run 42: 650.1694591565337\n",
            "Mean Squared Error in Run 43: 86.69902614354238\n",
            "Mean Squared Error in Run 44: 534.3184131662132\n",
            "Mean Squared Error in Run 45: 713.2525989726107\n",
            "Mean Squared Error in Run 46: 100.54285881346628\n",
            "Mean Squared Error in Run 47: 256.50181522657516\n",
            "Mean Squared Error in Run 48: 148.67098029615832\n",
            "Mean Squared Error in Run 49: 154.54914491125865\n",
            "Mean Squared Error in Run 50: 510.8536485708446\n"
          ]
        }
      ]
    },
    {
      "cell_type": "markdown",
      "source": [
        "## Task # 05\n",
        "Report the mean and the standard deviation of the mean squared errors."
      ],
      "metadata": {
        "id": "I6SPqBrx93tz"
      }
    },
    {
      "cell_type": "code",
      "source": [
        "# Convert the list of mean squared errors into a NumPy array\n",
        "mse_list = np.array(mse_list)\n",
        "\n",
        "# Calculate the mean and standard deviation of the mean squared errors from all runs\n",
        "mean = np.mean(mse_list)\n",
        "standard_deviation = np.std(mse_list)\n",
        "\n",
        "# Report by printing the mean and standard deviation of the mean squared errors\n",
        "print(f'Mean of {n_runs} runs: {mean}')\n",
        "print(f'Standard Deviation of {n_runs} runs: {standard_deviation}')"
      ],
      "metadata": {
        "colab": {
          "base_uri": "https://localhost:8080/"
        },
        "id": "BRIszfGI-Rbf",
        "outputId": "2e44c9bb-2146-49a8-b030-cc4314de3249"
      },
      "execution_count": null,
      "outputs": [
        {
          "output_type": "stream",
          "name": "stdout",
          "text": [
            "Mean of 50 runs: 353.7332452505476\n",
            "Standard Deviation of 50 runs: 345.5608714902745\n"
          ]
        }
      ]
    },
    {
      "cell_type": "markdown",
      "source": [
        "*Please take into consideration that when running these notebooks, the results may display variability owing to several factors. These factors may be random initialization, data partitioning, model training dynamics, variations in the versions of libraries such as Keras and TensorFlow, and/or additional external factors.*"
      ],
      "metadata": {
        "id": "KXN-lL9U4Dn7"
      }
    }
  ]
}