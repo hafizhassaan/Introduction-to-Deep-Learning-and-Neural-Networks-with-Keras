{
  "nbformat": 4,
  "nbformat_minor": 0,
  "metadata": {
    "colab": {
      "provenance": [],
      "authorship_tag": "ABX9TyNwp0rIesYoM0wbUnDWtN5E"
    },
    "kernelspec": {
      "name": "python3",
      "display_name": "Python 3"
    },
    "language_info": {
      "name": "python"
    }
  },
  "cells": [
    {
      "cell_type": "markdown",
      "source": [
        "# Introduction to Deep Learning & Neural Networks with Keras\n",
        "Part B: Normalize the data"
      ],
      "metadata": {
        "id": "dHh4B-QJ5fa6"
      }
    },
    {
      "cell_type": "markdown",
      "source": [
        "## Assignment Topic:\n",
        "In this project, we will build a regression model using the Keras library to model the data about concrete compressive strength."
      ],
      "metadata": {
        "id": "MU0ioim35m4e"
      }
    },
    {
      "cell_type": "markdown",
      "source": [
        "## Concrete Data:\n",
        "\n",
        "The data can be found here: [Dataset Link](https://cocl.us/concrete_data)\n",
        "\n",
        "The predictors in the data of concrete strength include:\n",
        "1.   Cement\n",
        "2.   Blast Furnace Slag\n",
        "3.   Fly Ash\n",
        "4.   Superplasticizer\n",
        "5.   Coarse Aggregate\n",
        "6.   Fine Aggregate"
      ],
      "metadata": {
        "id": "X5w9TYhv6IQY"
      }
    },
    {
      "cell_type": "markdown",
      "source": [
        "Download the concrete data file from the specified URL using wget"
      ],
      "metadata": {
        "id": "C1HQV1d54dSo"
      }
    },
    {
      "cell_type": "code",
      "execution_count": null,
      "metadata": {
        "colab": {
          "base_uri": "https://localhost:8080/"
        },
        "id": "6hYGQYBE0Cd5",
        "outputId": "cbaf3889-02a3-481d-b8ea-cf7494840e2c"
      },
      "outputs": [
        {
          "output_type": "stream",
          "name": "stdout",
          "text": [
            "--2023-10-03 17:21:51--  https://cocl.us/concrete_data\n",
            "Resolving cocl.us (cocl.us)... 23.61.244.208, 23.35.110.231, 2600:140b:4800::173d:f439, ...\n",
            "Connecting to cocl.us (cocl.us)|23.61.244.208|:443... connected.\n",
            "HTTP request sent, awaiting response... 302 Moved Temporarily\n",
            "Location: https://s3-api.us-geo.objectstorage.softlayer.net/cf-courses-data/CognitiveClass/DL0101EN/labs/data/concrete_data.csv [following]\n",
            "--2023-10-03 17:21:52--  https://s3-api.us-geo.objectstorage.softlayer.net/cf-courses-data/CognitiveClass/DL0101EN/labs/data/concrete_data.csv\n",
            "Resolving s3-api.us-geo.objectstorage.softlayer.net (s3-api.us-geo.objectstorage.softlayer.net)... 67.228.254.196\n",
            "Connecting to s3-api.us-geo.objectstorage.softlayer.net (s3-api.us-geo.objectstorage.softlayer.net)|67.228.254.196|:443... connected.\n",
            "HTTP request sent, awaiting response... 200 OK\n",
            "Length: 58988 (58K) [text/csv]\n",
            "Saving to: ‘concrete_data.csv’\n",
            "\n",
            "concrete_data.csv   100%[===================>]  57.61K   191KB/s    in 0.3s    \n",
            "\n",
            "2023-10-03 17:21:53 (191 KB/s) - ‘concrete_data.csv’ saved [58988/58988]\n",
            "\n"
          ]
        }
      ],
      "source": [
        "# Uncomment the following line if you need to download the dataset directly from the download link\n",
        "!wget \"https://cocl.us/concrete_data\" -O concrete_data.csv"
      ]
    },
    {
      "cell_type": "markdown",
      "source": [
        "Import necessary libraries and modules for data manipulation, splitting, metrics, and building a neural network model"
      ],
      "metadata": {
        "id": "OmIKclOH4ogk"
      }
    },
    {
      "cell_type": "code",
      "source": [
        "import pandas as pd\n",
        "import numpy as np\n",
        "\n",
        "from sklearn.model_selection import train_test_split\n",
        "from sklearn.metrics import mean_squared_error\n",
        "\n",
        "from tensorflow.keras import Sequential\n",
        "from tensorflow.keras.layers import Dense"
      ],
      "metadata": {
        "id": "o_mRgOzq0dP4"
      },
      "execution_count": null,
      "outputs": []
    },
    {
      "cell_type": "markdown",
      "source": [
        "Read the data from a CSV file named 'concrete_data' into a DataFrame (df)"
      ],
      "metadata": {
        "id": "YsGdC1oO470i"
      }
    },
    {
      "cell_type": "code",
      "source": [
        "df = pd.read_csv('concrete_data.csv')"
      ],
      "metadata": {
        "id": "MNZZBMvU4xqq"
      },
      "execution_count": null,
      "outputs": []
    },
    {
      "cell_type": "markdown",
      "source": [
        "Display the first few rows of the DataFrame to get an initial glimpse of the data"
      ],
      "metadata": {
        "id": "ai3ZnDIUA1uA"
      }
    },
    {
      "cell_type": "code",
      "source": [
        "df.head()"
      ],
      "metadata": {
        "colab": {
          "base_uri": "https://localhost:8080/",
          "height": 206
        },
        "id": "K0_1CA-lA1JO",
        "outputId": "c643066e-db89-46b4-ed03-aa2e9d538e6d"
      },
      "execution_count": null,
      "outputs": [
        {
          "output_type": "execute_result",
          "data": {
            "text/plain": [
              "   Cement  Blast Furnace Slag  Fly Ash  Water  Superplasticizer  \\\n",
              "0   540.0                 0.0      0.0  162.0               2.5   \n",
              "1   540.0                 0.0      0.0  162.0               2.5   \n",
              "2   332.5               142.5      0.0  228.0               0.0   \n",
              "3   332.5               142.5      0.0  228.0               0.0   \n",
              "4   198.6               132.4      0.0  192.0               0.0   \n",
              "\n",
              "   Coarse Aggregate  Fine Aggregate  Age  Strength  \n",
              "0            1040.0           676.0   28     79.99  \n",
              "1            1055.0           676.0   28     61.89  \n",
              "2             932.0           594.0  270     40.27  \n",
              "3             932.0           594.0  365     41.05  \n",
              "4             978.4           825.5  360     44.30  "
            ],
            "text/html": [
              "\n",
              "  <div id=\"df-a847daeb-3c04-4191-911c-2ca4be64ca5a\" class=\"colab-df-container\">\n",
              "    <div>\n",
              "<style scoped>\n",
              "    .dataframe tbody tr th:only-of-type {\n",
              "        vertical-align: middle;\n",
              "    }\n",
              "\n",
              "    .dataframe tbody tr th {\n",
              "        vertical-align: top;\n",
              "    }\n",
              "\n",
              "    .dataframe thead th {\n",
              "        text-align: right;\n",
              "    }\n",
              "</style>\n",
              "<table border=\"1\" class=\"dataframe\">\n",
              "  <thead>\n",
              "    <tr style=\"text-align: right;\">\n",
              "      <th></th>\n",
              "      <th>Cement</th>\n",
              "      <th>Blast Furnace Slag</th>\n",
              "      <th>Fly Ash</th>\n",
              "      <th>Water</th>\n",
              "      <th>Superplasticizer</th>\n",
              "      <th>Coarse Aggregate</th>\n",
              "      <th>Fine Aggregate</th>\n",
              "      <th>Age</th>\n",
              "      <th>Strength</th>\n",
              "    </tr>\n",
              "  </thead>\n",
              "  <tbody>\n",
              "    <tr>\n",
              "      <th>0</th>\n",
              "      <td>540.0</td>\n",
              "      <td>0.0</td>\n",
              "      <td>0.0</td>\n",
              "      <td>162.0</td>\n",
              "      <td>2.5</td>\n",
              "      <td>1040.0</td>\n",
              "      <td>676.0</td>\n",
              "      <td>28</td>\n",
              "      <td>79.99</td>\n",
              "    </tr>\n",
              "    <tr>\n",
              "      <th>1</th>\n",
              "      <td>540.0</td>\n",
              "      <td>0.0</td>\n",
              "      <td>0.0</td>\n",
              "      <td>162.0</td>\n",
              "      <td>2.5</td>\n",
              "      <td>1055.0</td>\n",
              "      <td>676.0</td>\n",
              "      <td>28</td>\n",
              "      <td>61.89</td>\n",
              "    </tr>\n",
              "    <tr>\n",
              "      <th>2</th>\n",
              "      <td>332.5</td>\n",
              "      <td>142.5</td>\n",
              "      <td>0.0</td>\n",
              "      <td>228.0</td>\n",
              "      <td>0.0</td>\n",
              "      <td>932.0</td>\n",
              "      <td>594.0</td>\n",
              "      <td>270</td>\n",
              "      <td>40.27</td>\n",
              "    </tr>\n",
              "    <tr>\n",
              "      <th>3</th>\n",
              "      <td>332.5</td>\n",
              "      <td>142.5</td>\n",
              "      <td>0.0</td>\n",
              "      <td>228.0</td>\n",
              "      <td>0.0</td>\n",
              "      <td>932.0</td>\n",
              "      <td>594.0</td>\n",
              "      <td>365</td>\n",
              "      <td>41.05</td>\n",
              "    </tr>\n",
              "    <tr>\n",
              "      <th>4</th>\n",
              "      <td>198.6</td>\n",
              "      <td>132.4</td>\n",
              "      <td>0.0</td>\n",
              "      <td>192.0</td>\n",
              "      <td>0.0</td>\n",
              "      <td>978.4</td>\n",
              "      <td>825.5</td>\n",
              "      <td>360</td>\n",
              "      <td>44.30</td>\n",
              "    </tr>\n",
              "  </tbody>\n",
              "</table>\n",
              "</div>\n",
              "    <div class=\"colab-df-buttons\">\n",
              "\n",
              "  <div class=\"colab-df-container\">\n",
              "    <button class=\"colab-df-convert\" onclick=\"convertToInteractive('df-a847daeb-3c04-4191-911c-2ca4be64ca5a')\"\n",
              "            title=\"Convert this dataframe to an interactive table.\"\n",
              "            style=\"display:none;\">\n",
              "\n",
              "  <svg xmlns=\"http://www.w3.org/2000/svg\" height=\"24px\" viewBox=\"0 -960 960 960\">\n",
              "    <path d=\"M120-120v-720h720v720H120Zm60-500h600v-160H180v160Zm220 220h160v-160H400v160Zm0 220h160v-160H400v160ZM180-400h160v-160H180v160Zm440 0h160v-160H620v160ZM180-180h160v-160H180v160Zm440 0h160v-160H620v160Z\"/>\n",
              "  </svg>\n",
              "    </button>\n",
              "\n",
              "  <style>\n",
              "    .colab-df-container {\n",
              "      display:flex;\n",
              "      gap: 12px;\n",
              "    }\n",
              "\n",
              "    .colab-df-convert {\n",
              "      background-color: #E8F0FE;\n",
              "      border: none;\n",
              "      border-radius: 50%;\n",
              "      cursor: pointer;\n",
              "      display: none;\n",
              "      fill: #1967D2;\n",
              "      height: 32px;\n",
              "      padding: 0 0 0 0;\n",
              "      width: 32px;\n",
              "    }\n",
              "\n",
              "    .colab-df-convert:hover {\n",
              "      background-color: #E2EBFA;\n",
              "      box-shadow: 0px 1px 2px rgba(60, 64, 67, 0.3), 0px 1px 3px 1px rgba(60, 64, 67, 0.15);\n",
              "      fill: #174EA6;\n",
              "    }\n",
              "\n",
              "    .colab-df-buttons div {\n",
              "      margin-bottom: 4px;\n",
              "    }\n",
              "\n",
              "    [theme=dark] .colab-df-convert {\n",
              "      background-color: #3B4455;\n",
              "      fill: #D2E3FC;\n",
              "    }\n",
              "\n",
              "    [theme=dark] .colab-df-convert:hover {\n",
              "      background-color: #434B5C;\n",
              "      box-shadow: 0px 1px 3px 1px rgba(0, 0, 0, 0.15);\n",
              "      filter: drop-shadow(0px 1px 2px rgba(0, 0, 0, 0.3));\n",
              "      fill: #FFFFFF;\n",
              "    }\n",
              "  </style>\n",
              "\n",
              "    <script>\n",
              "      const buttonEl =\n",
              "        document.querySelector('#df-a847daeb-3c04-4191-911c-2ca4be64ca5a button.colab-df-convert');\n",
              "      buttonEl.style.display =\n",
              "        google.colab.kernel.accessAllowed ? 'block' : 'none';\n",
              "\n",
              "      async function convertToInteractive(key) {\n",
              "        const element = document.querySelector('#df-a847daeb-3c04-4191-911c-2ca4be64ca5a');\n",
              "        const dataTable =\n",
              "          await google.colab.kernel.invokeFunction('convertToInteractive',\n",
              "                                                    [key], {});\n",
              "        if (!dataTable) return;\n",
              "\n",
              "        const docLinkHtml = 'Like what you see? Visit the ' +\n",
              "          '<a target=\"_blank\" href=https://colab.research.google.com/notebooks/data_table.ipynb>data table notebook</a>'\n",
              "          + ' to learn more about interactive tables.';\n",
              "        element.innerHTML = '';\n",
              "        dataTable['output_type'] = 'display_data';\n",
              "        await google.colab.output.renderOutput(dataTable, element);\n",
              "        const docLink = document.createElement('div');\n",
              "        docLink.innerHTML = docLinkHtml;\n",
              "        element.appendChild(docLink);\n",
              "      }\n",
              "    </script>\n",
              "  </div>\n",
              "\n",
              "\n",
              "<div id=\"df-23083b54-7c24-47cb-a647-1249a1f29e86\">\n",
              "  <button class=\"colab-df-quickchart\" onclick=\"quickchart('df-23083b54-7c24-47cb-a647-1249a1f29e86')\"\n",
              "            title=\"Suggest charts.\"\n",
              "            style=\"display:none;\">\n",
              "\n",
              "<svg xmlns=\"http://www.w3.org/2000/svg\" height=\"24px\"viewBox=\"0 0 24 24\"\n",
              "     width=\"24px\">\n",
              "    <g>\n",
              "        <path d=\"M19 3H5c-1.1 0-2 .9-2 2v14c0 1.1.9 2 2 2h14c1.1 0 2-.9 2-2V5c0-1.1-.9-2-2-2zM9 17H7v-7h2v7zm4 0h-2V7h2v10zm4 0h-2v-4h2v4z\"/>\n",
              "    </g>\n",
              "</svg>\n",
              "  </button>\n",
              "\n",
              "<style>\n",
              "  .colab-df-quickchart {\n",
              "      --bg-color: #E8F0FE;\n",
              "      --fill-color: #1967D2;\n",
              "      --hover-bg-color: #E2EBFA;\n",
              "      --hover-fill-color: #174EA6;\n",
              "      --disabled-fill-color: #AAA;\n",
              "      --disabled-bg-color: #DDD;\n",
              "  }\n",
              "\n",
              "  [theme=dark] .colab-df-quickchart {\n",
              "      --bg-color: #3B4455;\n",
              "      --fill-color: #D2E3FC;\n",
              "      --hover-bg-color: #434B5C;\n",
              "      --hover-fill-color: #FFFFFF;\n",
              "      --disabled-bg-color: #3B4455;\n",
              "      --disabled-fill-color: #666;\n",
              "  }\n",
              "\n",
              "  .colab-df-quickchart {\n",
              "    background-color: var(--bg-color);\n",
              "    border: none;\n",
              "    border-radius: 50%;\n",
              "    cursor: pointer;\n",
              "    display: none;\n",
              "    fill: var(--fill-color);\n",
              "    height: 32px;\n",
              "    padding: 0;\n",
              "    width: 32px;\n",
              "  }\n",
              "\n",
              "  .colab-df-quickchart:hover {\n",
              "    background-color: var(--hover-bg-color);\n",
              "    box-shadow: 0 1px 2px rgba(60, 64, 67, 0.3), 0 1px 3px 1px rgba(60, 64, 67, 0.15);\n",
              "    fill: var(--button-hover-fill-color);\n",
              "  }\n",
              "\n",
              "  .colab-df-quickchart-complete:disabled,\n",
              "  .colab-df-quickchart-complete:disabled:hover {\n",
              "    background-color: var(--disabled-bg-color);\n",
              "    fill: var(--disabled-fill-color);\n",
              "    box-shadow: none;\n",
              "  }\n",
              "\n",
              "  .colab-df-spinner {\n",
              "    border: 2px solid var(--fill-color);\n",
              "    border-color: transparent;\n",
              "    border-bottom-color: var(--fill-color);\n",
              "    animation:\n",
              "      spin 1s steps(1) infinite;\n",
              "  }\n",
              "\n",
              "  @keyframes spin {\n",
              "    0% {\n",
              "      border-color: transparent;\n",
              "      border-bottom-color: var(--fill-color);\n",
              "      border-left-color: var(--fill-color);\n",
              "    }\n",
              "    20% {\n",
              "      border-color: transparent;\n",
              "      border-left-color: var(--fill-color);\n",
              "      border-top-color: var(--fill-color);\n",
              "    }\n",
              "    30% {\n",
              "      border-color: transparent;\n",
              "      border-left-color: var(--fill-color);\n",
              "      border-top-color: var(--fill-color);\n",
              "      border-right-color: var(--fill-color);\n",
              "    }\n",
              "    40% {\n",
              "      border-color: transparent;\n",
              "      border-right-color: var(--fill-color);\n",
              "      border-top-color: var(--fill-color);\n",
              "    }\n",
              "    60% {\n",
              "      border-color: transparent;\n",
              "      border-right-color: var(--fill-color);\n",
              "    }\n",
              "    80% {\n",
              "      border-color: transparent;\n",
              "      border-right-color: var(--fill-color);\n",
              "      border-bottom-color: var(--fill-color);\n",
              "    }\n",
              "    90% {\n",
              "      border-color: transparent;\n",
              "      border-bottom-color: var(--fill-color);\n",
              "    }\n",
              "  }\n",
              "</style>\n",
              "\n",
              "  <script>\n",
              "    async function quickchart(key) {\n",
              "      const quickchartButtonEl =\n",
              "        document.querySelector('#' + key + ' button');\n",
              "      quickchartButtonEl.disabled = true;  // To prevent multiple clicks.\n",
              "      quickchartButtonEl.classList.add('colab-df-spinner');\n",
              "      try {\n",
              "        const charts = await google.colab.kernel.invokeFunction(\n",
              "            'suggestCharts', [key], {});\n",
              "      } catch (error) {\n",
              "        console.error('Error during call to suggestCharts:', error);\n",
              "      }\n",
              "      quickchartButtonEl.classList.remove('colab-df-spinner');\n",
              "      quickchartButtonEl.classList.add('colab-df-quickchart-complete');\n",
              "    }\n",
              "    (() => {\n",
              "      let quickchartButtonEl =\n",
              "        document.querySelector('#df-23083b54-7c24-47cb-a647-1249a1f29e86 button');\n",
              "      quickchartButtonEl.style.display =\n",
              "        google.colab.kernel.accessAllowed ? 'block' : 'none';\n",
              "    })();\n",
              "  </script>\n",
              "</div>\n",
              "    </div>\n",
              "  </div>\n"
            ]
          },
          "metadata": {},
          "execution_count": 4
        }
      ]
    },
    {
      "cell_type": "markdown",
      "source": [
        "\n",
        "Check the shape of the DataFrame to determine the number of rows and columns"
      ],
      "metadata": {
        "id": "FKGLMwR95XWr"
      }
    },
    {
      "cell_type": "code",
      "source": [
        "df.shape"
      ],
      "metadata": {
        "colab": {
          "base_uri": "https://localhost:8080/"
        },
        "id": "VkezWvbz5IyL",
        "outputId": "91ec4e85-efdf-44fe-c776-fd604e7f96be"
      },
      "execution_count": null,
      "outputs": [
        {
          "output_type": "execute_result",
          "data": {
            "text/plain": [
              "(1030, 9)"
            ]
          },
          "metadata": {},
          "execution_count": 5
        }
      ]
    },
    {
      "cell_type": "markdown",
      "source": [
        "Display summary statistics of the DataFrame"
      ],
      "metadata": {
        "id": "ekRiDGeoALrF"
      }
    },
    {
      "cell_type": "code",
      "source": [
        "df.describe()"
      ],
      "metadata": {
        "colab": {
          "base_uri": "https://localhost:8080/",
          "height": 355
        },
        "id": "wIpYXwEa5cJJ",
        "outputId": "3c811823-8490-42b8-dbe1-adca1206a66a"
      },
      "execution_count": null,
      "outputs": [
        {
          "output_type": "execute_result",
          "data": {
            "text/plain": [
              "            Cement  Blast Furnace Slag      Fly Ash        Water  \\\n",
              "count  1030.000000         1030.000000  1030.000000  1030.000000   \n",
              "mean    281.167864           73.895825    54.188350   181.567282   \n",
              "std     104.506364           86.279342    63.997004    21.354219   \n",
              "min     102.000000            0.000000     0.000000   121.800000   \n",
              "25%     192.375000            0.000000     0.000000   164.900000   \n",
              "50%     272.900000           22.000000     0.000000   185.000000   \n",
              "75%     350.000000          142.950000   118.300000   192.000000   \n",
              "max     540.000000          359.400000   200.100000   247.000000   \n",
              "\n",
              "       Superplasticizer  Coarse Aggregate  Fine Aggregate          Age  \\\n",
              "count       1030.000000       1030.000000     1030.000000  1030.000000   \n",
              "mean           6.204660        972.918932      773.580485    45.662136   \n",
              "std            5.973841         77.753954       80.175980    63.169912   \n",
              "min            0.000000        801.000000      594.000000     1.000000   \n",
              "25%            0.000000        932.000000      730.950000     7.000000   \n",
              "50%            6.400000        968.000000      779.500000    28.000000   \n",
              "75%           10.200000       1029.400000      824.000000    56.000000   \n",
              "max           32.200000       1145.000000      992.600000   365.000000   \n",
              "\n",
              "          Strength  \n",
              "count  1030.000000  \n",
              "mean     35.817961  \n",
              "std      16.705742  \n",
              "min       2.330000  \n",
              "25%      23.710000  \n",
              "50%      34.445000  \n",
              "75%      46.135000  \n",
              "max      82.600000  "
            ],
            "text/html": [
              "\n",
              "  <div id=\"df-2cd819fb-ff66-458e-8591-990026784904\" class=\"colab-df-container\">\n",
              "    <div>\n",
              "<style scoped>\n",
              "    .dataframe tbody tr th:only-of-type {\n",
              "        vertical-align: middle;\n",
              "    }\n",
              "\n",
              "    .dataframe tbody tr th {\n",
              "        vertical-align: top;\n",
              "    }\n",
              "\n",
              "    .dataframe thead th {\n",
              "        text-align: right;\n",
              "    }\n",
              "</style>\n",
              "<table border=\"1\" class=\"dataframe\">\n",
              "  <thead>\n",
              "    <tr style=\"text-align: right;\">\n",
              "      <th></th>\n",
              "      <th>Cement</th>\n",
              "      <th>Blast Furnace Slag</th>\n",
              "      <th>Fly Ash</th>\n",
              "      <th>Water</th>\n",
              "      <th>Superplasticizer</th>\n",
              "      <th>Coarse Aggregate</th>\n",
              "      <th>Fine Aggregate</th>\n",
              "      <th>Age</th>\n",
              "      <th>Strength</th>\n",
              "    </tr>\n",
              "  </thead>\n",
              "  <tbody>\n",
              "    <tr>\n",
              "      <th>count</th>\n",
              "      <td>1030.000000</td>\n",
              "      <td>1030.000000</td>\n",
              "      <td>1030.000000</td>\n",
              "      <td>1030.000000</td>\n",
              "      <td>1030.000000</td>\n",
              "      <td>1030.000000</td>\n",
              "      <td>1030.000000</td>\n",
              "      <td>1030.000000</td>\n",
              "      <td>1030.000000</td>\n",
              "    </tr>\n",
              "    <tr>\n",
              "      <th>mean</th>\n",
              "      <td>281.167864</td>\n",
              "      <td>73.895825</td>\n",
              "      <td>54.188350</td>\n",
              "      <td>181.567282</td>\n",
              "      <td>6.204660</td>\n",
              "      <td>972.918932</td>\n",
              "      <td>773.580485</td>\n",
              "      <td>45.662136</td>\n",
              "      <td>35.817961</td>\n",
              "    </tr>\n",
              "    <tr>\n",
              "      <th>std</th>\n",
              "      <td>104.506364</td>\n",
              "      <td>86.279342</td>\n",
              "      <td>63.997004</td>\n",
              "      <td>21.354219</td>\n",
              "      <td>5.973841</td>\n",
              "      <td>77.753954</td>\n",
              "      <td>80.175980</td>\n",
              "      <td>63.169912</td>\n",
              "      <td>16.705742</td>\n",
              "    </tr>\n",
              "    <tr>\n",
              "      <th>min</th>\n",
              "      <td>102.000000</td>\n",
              "      <td>0.000000</td>\n",
              "      <td>0.000000</td>\n",
              "      <td>121.800000</td>\n",
              "      <td>0.000000</td>\n",
              "      <td>801.000000</td>\n",
              "      <td>594.000000</td>\n",
              "      <td>1.000000</td>\n",
              "      <td>2.330000</td>\n",
              "    </tr>\n",
              "    <tr>\n",
              "      <th>25%</th>\n",
              "      <td>192.375000</td>\n",
              "      <td>0.000000</td>\n",
              "      <td>0.000000</td>\n",
              "      <td>164.900000</td>\n",
              "      <td>0.000000</td>\n",
              "      <td>932.000000</td>\n",
              "      <td>730.950000</td>\n",
              "      <td>7.000000</td>\n",
              "      <td>23.710000</td>\n",
              "    </tr>\n",
              "    <tr>\n",
              "      <th>50%</th>\n",
              "      <td>272.900000</td>\n",
              "      <td>22.000000</td>\n",
              "      <td>0.000000</td>\n",
              "      <td>185.000000</td>\n",
              "      <td>6.400000</td>\n",
              "      <td>968.000000</td>\n",
              "      <td>779.500000</td>\n",
              "      <td>28.000000</td>\n",
              "      <td>34.445000</td>\n",
              "    </tr>\n",
              "    <tr>\n",
              "      <th>75%</th>\n",
              "      <td>350.000000</td>\n",
              "      <td>142.950000</td>\n",
              "      <td>118.300000</td>\n",
              "      <td>192.000000</td>\n",
              "      <td>10.200000</td>\n",
              "      <td>1029.400000</td>\n",
              "      <td>824.000000</td>\n",
              "      <td>56.000000</td>\n",
              "      <td>46.135000</td>\n",
              "    </tr>\n",
              "    <tr>\n",
              "      <th>max</th>\n",
              "      <td>540.000000</td>\n",
              "      <td>359.400000</td>\n",
              "      <td>200.100000</td>\n",
              "      <td>247.000000</td>\n",
              "      <td>32.200000</td>\n",
              "      <td>1145.000000</td>\n",
              "      <td>992.600000</td>\n",
              "      <td>365.000000</td>\n",
              "      <td>82.600000</td>\n",
              "    </tr>\n",
              "  </tbody>\n",
              "</table>\n",
              "</div>\n",
              "    <div class=\"colab-df-buttons\">\n",
              "\n",
              "  <div class=\"colab-df-container\">\n",
              "    <button class=\"colab-df-convert\" onclick=\"convertToInteractive('df-2cd819fb-ff66-458e-8591-990026784904')\"\n",
              "            title=\"Convert this dataframe to an interactive table.\"\n",
              "            style=\"display:none;\">\n",
              "\n",
              "  <svg xmlns=\"http://www.w3.org/2000/svg\" height=\"24px\" viewBox=\"0 -960 960 960\">\n",
              "    <path d=\"M120-120v-720h720v720H120Zm60-500h600v-160H180v160Zm220 220h160v-160H400v160Zm0 220h160v-160H400v160ZM180-400h160v-160H180v160Zm440 0h160v-160H620v160ZM180-180h160v-160H180v160Zm440 0h160v-160H620v160Z\"/>\n",
              "  </svg>\n",
              "    </button>\n",
              "\n",
              "  <style>\n",
              "    .colab-df-container {\n",
              "      display:flex;\n",
              "      gap: 12px;\n",
              "    }\n",
              "\n",
              "    .colab-df-convert {\n",
              "      background-color: #E8F0FE;\n",
              "      border: none;\n",
              "      border-radius: 50%;\n",
              "      cursor: pointer;\n",
              "      display: none;\n",
              "      fill: #1967D2;\n",
              "      height: 32px;\n",
              "      padding: 0 0 0 0;\n",
              "      width: 32px;\n",
              "    }\n",
              "\n",
              "    .colab-df-convert:hover {\n",
              "      background-color: #E2EBFA;\n",
              "      box-shadow: 0px 1px 2px rgba(60, 64, 67, 0.3), 0px 1px 3px 1px rgba(60, 64, 67, 0.15);\n",
              "      fill: #174EA6;\n",
              "    }\n",
              "\n",
              "    .colab-df-buttons div {\n",
              "      margin-bottom: 4px;\n",
              "    }\n",
              "\n",
              "    [theme=dark] .colab-df-convert {\n",
              "      background-color: #3B4455;\n",
              "      fill: #D2E3FC;\n",
              "    }\n",
              "\n",
              "    [theme=dark] .colab-df-convert:hover {\n",
              "      background-color: #434B5C;\n",
              "      box-shadow: 0px 1px 3px 1px rgba(0, 0, 0, 0.15);\n",
              "      filter: drop-shadow(0px 1px 2px rgba(0, 0, 0, 0.3));\n",
              "      fill: #FFFFFF;\n",
              "    }\n",
              "  </style>\n",
              "\n",
              "    <script>\n",
              "      const buttonEl =\n",
              "        document.querySelector('#df-2cd819fb-ff66-458e-8591-990026784904 button.colab-df-convert');\n",
              "      buttonEl.style.display =\n",
              "        google.colab.kernel.accessAllowed ? 'block' : 'none';\n",
              "\n",
              "      async function convertToInteractive(key) {\n",
              "        const element = document.querySelector('#df-2cd819fb-ff66-458e-8591-990026784904');\n",
              "        const dataTable =\n",
              "          await google.colab.kernel.invokeFunction('convertToInteractive',\n",
              "                                                    [key], {});\n",
              "        if (!dataTable) return;\n",
              "\n",
              "        const docLinkHtml = 'Like what you see? Visit the ' +\n",
              "          '<a target=\"_blank\" href=https://colab.research.google.com/notebooks/data_table.ipynb>data table notebook</a>'\n",
              "          + ' to learn more about interactive tables.';\n",
              "        element.innerHTML = '';\n",
              "        dataTable['output_type'] = 'display_data';\n",
              "        await google.colab.output.renderOutput(dataTable, element);\n",
              "        const docLink = document.createElement('div');\n",
              "        docLink.innerHTML = docLinkHtml;\n",
              "        element.appendChild(docLink);\n",
              "      }\n",
              "    </script>\n",
              "  </div>\n",
              "\n",
              "\n",
              "<div id=\"df-18a0ae45-4187-4f9b-98d2-ffd3a34cf5d7\">\n",
              "  <button class=\"colab-df-quickchart\" onclick=\"quickchart('df-18a0ae45-4187-4f9b-98d2-ffd3a34cf5d7')\"\n",
              "            title=\"Suggest charts.\"\n",
              "            style=\"display:none;\">\n",
              "\n",
              "<svg xmlns=\"http://www.w3.org/2000/svg\" height=\"24px\"viewBox=\"0 0 24 24\"\n",
              "     width=\"24px\">\n",
              "    <g>\n",
              "        <path d=\"M19 3H5c-1.1 0-2 .9-2 2v14c0 1.1.9 2 2 2h14c1.1 0 2-.9 2-2V5c0-1.1-.9-2-2-2zM9 17H7v-7h2v7zm4 0h-2V7h2v10zm4 0h-2v-4h2v4z\"/>\n",
              "    </g>\n",
              "</svg>\n",
              "  </button>\n",
              "\n",
              "<style>\n",
              "  .colab-df-quickchart {\n",
              "      --bg-color: #E8F0FE;\n",
              "      --fill-color: #1967D2;\n",
              "      --hover-bg-color: #E2EBFA;\n",
              "      --hover-fill-color: #174EA6;\n",
              "      --disabled-fill-color: #AAA;\n",
              "      --disabled-bg-color: #DDD;\n",
              "  }\n",
              "\n",
              "  [theme=dark] .colab-df-quickchart {\n",
              "      --bg-color: #3B4455;\n",
              "      --fill-color: #D2E3FC;\n",
              "      --hover-bg-color: #434B5C;\n",
              "      --hover-fill-color: #FFFFFF;\n",
              "      --disabled-bg-color: #3B4455;\n",
              "      --disabled-fill-color: #666;\n",
              "  }\n",
              "\n",
              "  .colab-df-quickchart {\n",
              "    background-color: var(--bg-color);\n",
              "    border: none;\n",
              "    border-radius: 50%;\n",
              "    cursor: pointer;\n",
              "    display: none;\n",
              "    fill: var(--fill-color);\n",
              "    height: 32px;\n",
              "    padding: 0;\n",
              "    width: 32px;\n",
              "  }\n",
              "\n",
              "  .colab-df-quickchart:hover {\n",
              "    background-color: var(--hover-bg-color);\n",
              "    box-shadow: 0 1px 2px rgba(60, 64, 67, 0.3), 0 1px 3px 1px rgba(60, 64, 67, 0.15);\n",
              "    fill: var(--button-hover-fill-color);\n",
              "  }\n",
              "\n",
              "  .colab-df-quickchart-complete:disabled,\n",
              "  .colab-df-quickchart-complete:disabled:hover {\n",
              "    background-color: var(--disabled-bg-color);\n",
              "    fill: var(--disabled-fill-color);\n",
              "    box-shadow: none;\n",
              "  }\n",
              "\n",
              "  .colab-df-spinner {\n",
              "    border: 2px solid var(--fill-color);\n",
              "    border-color: transparent;\n",
              "    border-bottom-color: var(--fill-color);\n",
              "    animation:\n",
              "      spin 1s steps(1) infinite;\n",
              "  }\n",
              "\n",
              "  @keyframes spin {\n",
              "    0% {\n",
              "      border-color: transparent;\n",
              "      border-bottom-color: var(--fill-color);\n",
              "      border-left-color: var(--fill-color);\n",
              "    }\n",
              "    20% {\n",
              "      border-color: transparent;\n",
              "      border-left-color: var(--fill-color);\n",
              "      border-top-color: var(--fill-color);\n",
              "    }\n",
              "    30% {\n",
              "      border-color: transparent;\n",
              "      border-left-color: var(--fill-color);\n",
              "      border-top-color: var(--fill-color);\n",
              "      border-right-color: var(--fill-color);\n",
              "    }\n",
              "    40% {\n",
              "      border-color: transparent;\n",
              "      border-right-color: var(--fill-color);\n",
              "      border-top-color: var(--fill-color);\n",
              "    }\n",
              "    60% {\n",
              "      border-color: transparent;\n",
              "      border-right-color: var(--fill-color);\n",
              "    }\n",
              "    80% {\n",
              "      border-color: transparent;\n",
              "      border-right-color: var(--fill-color);\n",
              "      border-bottom-color: var(--fill-color);\n",
              "    }\n",
              "    90% {\n",
              "      border-color: transparent;\n",
              "      border-bottom-color: var(--fill-color);\n",
              "    }\n",
              "  }\n",
              "</style>\n",
              "\n",
              "  <script>\n",
              "    async function quickchart(key) {\n",
              "      const quickchartButtonEl =\n",
              "        document.querySelector('#' + key + ' button');\n",
              "      quickchartButtonEl.disabled = true;  // To prevent multiple clicks.\n",
              "      quickchartButtonEl.classList.add('colab-df-spinner');\n",
              "      try {\n",
              "        const charts = await google.colab.kernel.invokeFunction(\n",
              "            'suggestCharts', [key], {});\n",
              "      } catch (error) {\n",
              "        console.error('Error during call to suggestCharts:', error);\n",
              "      }\n",
              "      quickchartButtonEl.classList.remove('colab-df-spinner');\n",
              "      quickchartButtonEl.classList.add('colab-df-quickchart-complete');\n",
              "    }\n",
              "    (() => {\n",
              "      let quickchartButtonEl =\n",
              "        document.querySelector('#df-18a0ae45-4187-4f9b-98d2-ffd3a34cf5d7 button');\n",
              "      quickchartButtonEl.style.display =\n",
              "        google.colab.kernel.accessAllowed ? 'block' : 'none';\n",
              "    })();\n",
              "  </script>\n",
              "</div>\n",
              "    </div>\n",
              "  </div>\n"
            ]
          },
          "metadata": {},
          "execution_count": 6
        }
      ]
    },
    {
      "cell_type": "markdown",
      "source": [
        "Display information about the DataFrame, including data types and non-null counts"
      ],
      "metadata": {
        "id": "g0PqoC3JAPHf"
      }
    },
    {
      "cell_type": "code",
      "source": [
        "df.info()"
      ],
      "metadata": {
        "colab": {
          "base_uri": "https://localhost:8080/"
        },
        "id": "55j0uzAl5e9I",
        "outputId": "d67cf9a2-a646-4df4-b896-3a0b24ab63de"
      },
      "execution_count": null,
      "outputs": [
        {
          "output_type": "stream",
          "name": "stdout",
          "text": [
            "<class 'pandas.core.frame.DataFrame'>\n",
            "RangeIndex: 1030 entries, 0 to 1029\n",
            "Data columns (total 9 columns):\n",
            " #   Column              Non-Null Count  Dtype  \n",
            "---  ------              --------------  -----  \n",
            " 0   Cement              1030 non-null   float64\n",
            " 1   Blast Furnace Slag  1030 non-null   float64\n",
            " 2   Fly Ash             1030 non-null   float64\n",
            " 3   Water               1030 non-null   float64\n",
            " 4   Superplasticizer    1030 non-null   float64\n",
            " 5   Coarse Aggregate    1030 non-null   float64\n",
            " 6   Fine Aggregate      1030 non-null   float64\n",
            " 7   Age                 1030 non-null   int64  \n",
            " 8   Strength            1030 non-null   float64\n",
            "dtypes: float64(8), int64(1)\n",
            "memory usage: 72.5 KB\n"
          ]
        }
      ]
    },
    {
      "cell_type": "markdown",
      "source": [
        "Calculate the number of missing values (NaN) for each column in the DataFrame"
      ],
      "metadata": {
        "id": "0zaRt-4xBPDM"
      }
    },
    {
      "cell_type": "code",
      "source": [
        "df.isna().sum()"
      ],
      "metadata": {
        "colab": {
          "base_uri": "https://localhost:8080/"
        },
        "id": "77sH1dXZ5gSJ",
        "outputId": "49ea3fb3-a252-4fc0-9ff1-2d54abfe4c2d"
      },
      "execution_count": null,
      "outputs": [
        {
          "output_type": "execute_result",
          "data": {
            "text/plain": [
              "Cement                0\n",
              "Blast Furnace Slag    0\n",
              "Fly Ash               0\n",
              "Water                 0\n",
              "Superplasticizer      0\n",
              "Coarse Aggregate      0\n",
              "Fine Aggregate        0\n",
              "Age                   0\n",
              "Strength              0\n",
              "dtype: int64"
            ]
          },
          "metadata": {},
          "execution_count": 8
        }
      ]
    },
    {
      "cell_type": "markdown",
      "source": [
        "Create a list of features by selecting all columns except 'Strength'"
      ],
      "metadata": {
        "id": "KS5tA12FBSOu"
      }
    },
    {
      "cell_type": "code",
      "source": [
        "features = [col for col in df.columns if col != 'Strength']\n",
        "print('features:', features)"
      ],
      "metadata": {
        "colab": {
          "base_uri": "https://localhost:8080/"
        },
        "id": "mxn1Z6q46Nz6",
        "outputId": "584e12ce-7214-4120-891f-19650bbccc54"
      },
      "execution_count": null,
      "outputs": [
        {
          "output_type": "stream",
          "name": "stdout",
          "text": [
            "features: ['Cement', 'Blast Furnace Slag', 'Fly Ash', 'Water', 'Superplasticizer', 'Coarse Aggregate', 'Fine Aggregate', 'Age']\n"
          ]
        }
      ]
    },
    {
      "cell_type": "markdown",
      "source": [
        "Extract the 'Strength' column as the target variable and convert it to a NumPy array"
      ],
      "metadata": {
        "id": "fwJT8TNhBYcM"
      }
    },
    {
      "cell_type": "code",
      "source": [
        "target = df.Strength.to_numpy()"
      ],
      "metadata": {
        "id": "z6GG6B0SBYwZ"
      },
      "execution_count": null,
      "outputs": []
    },
    {
      "cell_type": "markdown",
      "source": [
        "## Task for Part B\n",
        "Normalize the features"
      ],
      "metadata": {
        "id": "QEcIhhZBga7W"
      }
    },
    {
      "cell_type": "code",
      "source": [
        "# Import the StandardScaler class from scikit-learn's preprocessing module\n",
        "from sklearn.preprocessing import StandardScaler\n",
        "\n",
        "# Initialize the StandardScaler\n",
        "scaler = StandardScaler()\n",
        "\n",
        "# Normalize the selected columns using fit_transform\n",
        "df[features] = scaler.fit_transform(df[features])"
      ],
      "metadata": {
        "id": "Ph7XrjVIgbVi"
      },
      "execution_count": null,
      "outputs": []
    },
    {
      "cell_type": "markdown",
      "source": [
        "Display the first few rows of the DataFrame to get a glimpse of the data after normalization"
      ],
      "metadata": {
        "id": "51-RK6zpjTbm"
      }
    },
    {
      "cell_type": "code",
      "source": [
        "df.head()"
      ],
      "metadata": {
        "colab": {
          "base_uri": "https://localhost:8080/",
          "height": 224
        },
        "id": "8QNCfGoVjTNI",
        "outputId": "eeabc7f0-11fd-4a21-9c1e-512fc915c55f"
      },
      "execution_count": null,
      "outputs": [
        {
          "output_type": "execute_result",
          "data": {
            "text/plain": [
              "     Cement  Blast Furnace Slag   Fly Ash     Water  Superplasticizer  \\\n",
              "0  2.477915           -0.856888 -0.847144 -0.916764         -0.620448   \n",
              "1  2.477915           -0.856888 -0.847144 -0.916764         -0.620448   \n",
              "2  0.491425            0.795526 -0.847144  2.175461         -1.039143   \n",
              "3  0.491425            0.795526 -0.847144  2.175461         -1.039143   \n",
              "4 -0.790459            0.678408 -0.847144  0.488793         -1.039143   \n",
              "\n",
              "   Coarse Aggregate  Fine Aggregate       Age  Strength  \n",
              "0          0.863154       -1.217670 -0.279733     79.99  \n",
              "1          1.056164       -1.217670 -0.279733     61.89  \n",
              "2         -0.526517       -2.240917  3.553066     40.27  \n",
              "3         -0.526517       -2.240917  5.057677     41.05  \n",
              "4          0.070527        0.647884  4.978487     44.30  "
            ],
            "text/html": [
              "\n",
              "  <div id=\"df-8dd793c8-a261-4ff5-bfdb-af3ce8c706b8\" class=\"colab-df-container\">\n",
              "    <div>\n",
              "<style scoped>\n",
              "    .dataframe tbody tr th:only-of-type {\n",
              "        vertical-align: middle;\n",
              "    }\n",
              "\n",
              "    .dataframe tbody tr th {\n",
              "        vertical-align: top;\n",
              "    }\n",
              "\n",
              "    .dataframe thead th {\n",
              "        text-align: right;\n",
              "    }\n",
              "</style>\n",
              "<table border=\"1\" class=\"dataframe\">\n",
              "  <thead>\n",
              "    <tr style=\"text-align: right;\">\n",
              "      <th></th>\n",
              "      <th>Cement</th>\n",
              "      <th>Blast Furnace Slag</th>\n",
              "      <th>Fly Ash</th>\n",
              "      <th>Water</th>\n",
              "      <th>Superplasticizer</th>\n",
              "      <th>Coarse Aggregate</th>\n",
              "      <th>Fine Aggregate</th>\n",
              "      <th>Age</th>\n",
              "      <th>Strength</th>\n",
              "    </tr>\n",
              "  </thead>\n",
              "  <tbody>\n",
              "    <tr>\n",
              "      <th>0</th>\n",
              "      <td>2.477915</td>\n",
              "      <td>-0.856888</td>\n",
              "      <td>-0.847144</td>\n",
              "      <td>-0.916764</td>\n",
              "      <td>-0.620448</td>\n",
              "      <td>0.863154</td>\n",
              "      <td>-1.217670</td>\n",
              "      <td>-0.279733</td>\n",
              "      <td>79.99</td>\n",
              "    </tr>\n",
              "    <tr>\n",
              "      <th>1</th>\n",
              "      <td>2.477915</td>\n",
              "      <td>-0.856888</td>\n",
              "      <td>-0.847144</td>\n",
              "      <td>-0.916764</td>\n",
              "      <td>-0.620448</td>\n",
              "      <td>1.056164</td>\n",
              "      <td>-1.217670</td>\n",
              "      <td>-0.279733</td>\n",
              "      <td>61.89</td>\n",
              "    </tr>\n",
              "    <tr>\n",
              "      <th>2</th>\n",
              "      <td>0.491425</td>\n",
              "      <td>0.795526</td>\n",
              "      <td>-0.847144</td>\n",
              "      <td>2.175461</td>\n",
              "      <td>-1.039143</td>\n",
              "      <td>-0.526517</td>\n",
              "      <td>-2.240917</td>\n",
              "      <td>3.553066</td>\n",
              "      <td>40.27</td>\n",
              "    </tr>\n",
              "    <tr>\n",
              "      <th>3</th>\n",
              "      <td>0.491425</td>\n",
              "      <td>0.795526</td>\n",
              "      <td>-0.847144</td>\n",
              "      <td>2.175461</td>\n",
              "      <td>-1.039143</td>\n",
              "      <td>-0.526517</td>\n",
              "      <td>-2.240917</td>\n",
              "      <td>5.057677</td>\n",
              "      <td>41.05</td>\n",
              "    </tr>\n",
              "    <tr>\n",
              "      <th>4</th>\n",
              "      <td>-0.790459</td>\n",
              "      <td>0.678408</td>\n",
              "      <td>-0.847144</td>\n",
              "      <td>0.488793</td>\n",
              "      <td>-1.039143</td>\n",
              "      <td>0.070527</td>\n",
              "      <td>0.647884</td>\n",
              "      <td>4.978487</td>\n",
              "      <td>44.30</td>\n",
              "    </tr>\n",
              "  </tbody>\n",
              "</table>\n",
              "</div>\n",
              "    <div class=\"colab-df-buttons\">\n",
              "\n",
              "  <div class=\"colab-df-container\">\n",
              "    <button class=\"colab-df-convert\" onclick=\"convertToInteractive('df-8dd793c8-a261-4ff5-bfdb-af3ce8c706b8')\"\n",
              "            title=\"Convert this dataframe to an interactive table.\"\n",
              "            style=\"display:none;\">\n",
              "\n",
              "  <svg xmlns=\"http://www.w3.org/2000/svg\" height=\"24px\" viewBox=\"0 -960 960 960\">\n",
              "    <path d=\"M120-120v-720h720v720H120Zm60-500h600v-160H180v160Zm220 220h160v-160H400v160Zm0 220h160v-160H400v160ZM180-400h160v-160H180v160Zm440 0h160v-160H620v160ZM180-180h160v-160H180v160Zm440 0h160v-160H620v160Z\"/>\n",
              "  </svg>\n",
              "    </button>\n",
              "\n",
              "  <style>\n",
              "    .colab-df-container {\n",
              "      display:flex;\n",
              "      gap: 12px;\n",
              "    }\n",
              "\n",
              "    .colab-df-convert {\n",
              "      background-color: #E8F0FE;\n",
              "      border: none;\n",
              "      border-radius: 50%;\n",
              "      cursor: pointer;\n",
              "      display: none;\n",
              "      fill: #1967D2;\n",
              "      height: 32px;\n",
              "      padding: 0 0 0 0;\n",
              "      width: 32px;\n",
              "    }\n",
              "\n",
              "    .colab-df-convert:hover {\n",
              "      background-color: #E2EBFA;\n",
              "      box-shadow: 0px 1px 2px rgba(60, 64, 67, 0.3), 0px 1px 3px 1px rgba(60, 64, 67, 0.15);\n",
              "      fill: #174EA6;\n",
              "    }\n",
              "\n",
              "    .colab-df-buttons div {\n",
              "      margin-bottom: 4px;\n",
              "    }\n",
              "\n",
              "    [theme=dark] .colab-df-convert {\n",
              "      background-color: #3B4455;\n",
              "      fill: #D2E3FC;\n",
              "    }\n",
              "\n",
              "    [theme=dark] .colab-df-convert:hover {\n",
              "      background-color: #434B5C;\n",
              "      box-shadow: 0px 1px 3px 1px rgba(0, 0, 0, 0.15);\n",
              "      filter: drop-shadow(0px 1px 2px rgba(0, 0, 0, 0.3));\n",
              "      fill: #FFFFFF;\n",
              "    }\n",
              "  </style>\n",
              "\n",
              "    <script>\n",
              "      const buttonEl =\n",
              "        document.querySelector('#df-8dd793c8-a261-4ff5-bfdb-af3ce8c706b8 button.colab-df-convert');\n",
              "      buttonEl.style.display =\n",
              "        google.colab.kernel.accessAllowed ? 'block' : 'none';\n",
              "\n",
              "      async function convertToInteractive(key) {\n",
              "        const element = document.querySelector('#df-8dd793c8-a261-4ff5-bfdb-af3ce8c706b8');\n",
              "        const dataTable =\n",
              "          await google.colab.kernel.invokeFunction('convertToInteractive',\n",
              "                                                    [key], {});\n",
              "        if (!dataTable) return;\n",
              "\n",
              "        const docLinkHtml = 'Like what you see? Visit the ' +\n",
              "          '<a target=\"_blank\" href=https://colab.research.google.com/notebooks/data_table.ipynb>data table notebook</a>'\n",
              "          + ' to learn more about interactive tables.';\n",
              "        element.innerHTML = '';\n",
              "        dataTable['output_type'] = 'display_data';\n",
              "        await google.colab.output.renderOutput(dataTable, element);\n",
              "        const docLink = document.createElement('div');\n",
              "        docLink.innerHTML = docLinkHtml;\n",
              "        element.appendChild(docLink);\n",
              "      }\n",
              "    </script>\n",
              "  </div>\n",
              "\n",
              "\n",
              "<div id=\"df-0011154e-6458-47e0-af58-fae374361cd4\">\n",
              "  <button class=\"colab-df-quickchart\" onclick=\"quickchart('df-0011154e-6458-47e0-af58-fae374361cd4')\"\n",
              "            title=\"Suggest charts.\"\n",
              "            style=\"display:none;\">\n",
              "\n",
              "<svg xmlns=\"http://www.w3.org/2000/svg\" height=\"24px\"viewBox=\"0 0 24 24\"\n",
              "     width=\"24px\">\n",
              "    <g>\n",
              "        <path d=\"M19 3H5c-1.1 0-2 .9-2 2v14c0 1.1.9 2 2 2h14c1.1 0 2-.9 2-2V5c0-1.1-.9-2-2-2zM9 17H7v-7h2v7zm4 0h-2V7h2v10zm4 0h-2v-4h2v4z\"/>\n",
              "    </g>\n",
              "</svg>\n",
              "  </button>\n",
              "\n",
              "<style>\n",
              "  .colab-df-quickchart {\n",
              "      --bg-color: #E8F0FE;\n",
              "      --fill-color: #1967D2;\n",
              "      --hover-bg-color: #E2EBFA;\n",
              "      --hover-fill-color: #174EA6;\n",
              "      --disabled-fill-color: #AAA;\n",
              "      --disabled-bg-color: #DDD;\n",
              "  }\n",
              "\n",
              "  [theme=dark] .colab-df-quickchart {\n",
              "      --bg-color: #3B4455;\n",
              "      --fill-color: #D2E3FC;\n",
              "      --hover-bg-color: #434B5C;\n",
              "      --hover-fill-color: #FFFFFF;\n",
              "      --disabled-bg-color: #3B4455;\n",
              "      --disabled-fill-color: #666;\n",
              "  }\n",
              "\n",
              "  .colab-df-quickchart {\n",
              "    background-color: var(--bg-color);\n",
              "    border: none;\n",
              "    border-radius: 50%;\n",
              "    cursor: pointer;\n",
              "    display: none;\n",
              "    fill: var(--fill-color);\n",
              "    height: 32px;\n",
              "    padding: 0;\n",
              "    width: 32px;\n",
              "  }\n",
              "\n",
              "  .colab-df-quickchart:hover {\n",
              "    background-color: var(--hover-bg-color);\n",
              "    box-shadow: 0 1px 2px rgba(60, 64, 67, 0.3), 0 1px 3px 1px rgba(60, 64, 67, 0.15);\n",
              "    fill: var(--button-hover-fill-color);\n",
              "  }\n",
              "\n",
              "  .colab-df-quickchart-complete:disabled,\n",
              "  .colab-df-quickchart-complete:disabled:hover {\n",
              "    background-color: var(--disabled-bg-color);\n",
              "    fill: var(--disabled-fill-color);\n",
              "    box-shadow: none;\n",
              "  }\n",
              "\n",
              "  .colab-df-spinner {\n",
              "    border: 2px solid var(--fill-color);\n",
              "    border-color: transparent;\n",
              "    border-bottom-color: var(--fill-color);\n",
              "    animation:\n",
              "      spin 1s steps(1) infinite;\n",
              "  }\n",
              "\n",
              "  @keyframes spin {\n",
              "    0% {\n",
              "      border-color: transparent;\n",
              "      border-bottom-color: var(--fill-color);\n",
              "      border-left-color: var(--fill-color);\n",
              "    }\n",
              "    20% {\n",
              "      border-color: transparent;\n",
              "      border-left-color: var(--fill-color);\n",
              "      border-top-color: var(--fill-color);\n",
              "    }\n",
              "    30% {\n",
              "      border-color: transparent;\n",
              "      border-left-color: var(--fill-color);\n",
              "      border-top-color: var(--fill-color);\n",
              "      border-right-color: var(--fill-color);\n",
              "    }\n",
              "    40% {\n",
              "      border-color: transparent;\n",
              "      border-right-color: var(--fill-color);\n",
              "      border-top-color: var(--fill-color);\n",
              "    }\n",
              "    60% {\n",
              "      border-color: transparent;\n",
              "      border-right-color: var(--fill-color);\n",
              "    }\n",
              "    80% {\n",
              "      border-color: transparent;\n",
              "      border-right-color: var(--fill-color);\n",
              "      border-bottom-color: var(--fill-color);\n",
              "    }\n",
              "    90% {\n",
              "      border-color: transparent;\n",
              "      border-bottom-color: var(--fill-color);\n",
              "    }\n",
              "  }\n",
              "</style>\n",
              "\n",
              "  <script>\n",
              "    async function quickchart(key) {\n",
              "      const quickchartButtonEl =\n",
              "        document.querySelector('#' + key + ' button');\n",
              "      quickchartButtonEl.disabled = true;  // To prevent multiple clicks.\n",
              "      quickchartButtonEl.classList.add('colab-df-spinner');\n",
              "      try {\n",
              "        const charts = await google.colab.kernel.invokeFunction(\n",
              "            'suggestCharts', [key], {});\n",
              "      } catch (error) {\n",
              "        console.error('Error during call to suggestCharts:', error);\n",
              "      }\n",
              "      quickchartButtonEl.classList.remove('colab-df-spinner');\n",
              "      quickchartButtonEl.classList.add('colab-df-quickchart-complete');\n",
              "    }\n",
              "    (() => {\n",
              "      let quickchartButtonEl =\n",
              "        document.querySelector('#df-0011154e-6458-47e0-af58-fae374361cd4 button');\n",
              "      quickchartButtonEl.style.display =\n",
              "        google.colab.kernel.accessAllowed ? 'block' : 'none';\n",
              "    })();\n",
              "  </script>\n",
              "</div>\n",
              "    </div>\n",
              "  </div>\n"
            ]
          },
          "metadata": {},
          "execution_count": 12
        }
      ]
    },
    {
      "cell_type": "markdown",
      "source": [
        "## Task # 01\n",
        "Randomly split the data into a training and test sets by holding 30% of the data for testing. You can use the train_test_split helper function from Scikit-learn."
      ],
      "metadata": {
        "id": "BnkkDY8M9Efl"
      }
    },
    {
      "cell_type": "code",
      "source": [
        "# Split the dataset into training and testing sets with a 70-30 split ratio and a fixed random seed\n",
        "x_train, x_test, y_train, y_test = train_test_split(df[features], target, test_size=0.3, random_state=0)\n",
        "\n",
        "print(f'number of rows and number of features in xtrain: {x_train.shape}')\n",
        "print(f'number of rows in ytrain: {y_train.shape}')\n",
        "print(f'number of rows and number of features in x_test: {x_test.shape}')\n",
        "print(f'number of rows in y_test: {y_test.shape}')"
      ],
      "metadata": {
        "colab": {
          "base_uri": "https://localhost:8080/"
        },
        "id": "-WENdUp85p95",
        "outputId": "6b8067f0-1c95-497a-944a-b49ef52dcb6a"
      },
      "execution_count": null,
      "outputs": [
        {
          "output_type": "stream",
          "name": "stdout",
          "text": [
            "number of rows and number of features in xtrain: (721, 8)\n",
            "number of rows in ytrain: (721,)\n",
            "number of rows and number of features in x_test: (309, 8)\n",
            "number of rows in y_test: (309,)\n"
          ]
        }
      ]
    },
    {
      "cell_type": "code",
      "source": [
        "# Determine the number of columns in the feature dataset\n",
        "n_cols = df[features].shape[1]\n",
        "n_cols"
      ],
      "metadata": {
        "colab": {
          "base_uri": "https://localhost:8080/"
        },
        "id": "rKQNpteo8KsP",
        "outputId": "e24521a7-f1c5-42f1-fe87-38f921e8c54b"
      },
      "execution_count": null,
      "outputs": [
        {
          "output_type": "execute_result",
          "data": {
            "text/plain": [
              "8"
            ]
          },
          "metadata": {},
          "execution_count": 14
        }
      ]
    },
    {
      "cell_type": "markdown",
      "source": [
        "## Task # 02\n",
        "Train the model on the training data using 50 epochs."
      ],
      "metadata": {
        "id": "P4EEKd5c9Tcu"
      }
    },
    {
      "cell_type": "markdown",
      "source": [
        "### Create Regression Model\n",
        "\n",
        "1.   One hidden layer of 10 nodes, and a ReLU activation function.\n",
        "2.   Use the adam optimizer and the mean squared error as the loss function.\n",
        "\n"
      ],
      "metadata": {
        "id": "8hTf0H-87n88"
      }
    },
    {
      "cell_type": "code",
      "source": [
        "# Define a function to create a regression model\n",
        "def RegressionModel():\n",
        "    # Create a sequential model\n",
        "    model = Sequential()\n",
        "    # One hidden layer of 10 nodes, and a ReLU activation function\n",
        "    model.add(Dense(10, activation='relu', input_shape=(n_cols,)))\n",
        "    # Add the output layer with 1 node\n",
        "    model.add(Dense(1))\n",
        "\n",
        "    # Compile the model using the Adam optimizer and mean squared error as the loss function\n",
        "    model.compile(optimizer='adam', loss='mean_squared_error')\n",
        "    return model"
      ],
      "metadata": {
        "id": "vb8wza2z7NZM"
      },
      "execution_count": null,
      "outputs": []
    },
    {
      "cell_type": "code",
      "source": [
        "# Create the regression model\n",
        "model = RegressionModel()"
      ],
      "metadata": {
        "id": "SzT1uCoS8Uh7"
      },
      "execution_count": null,
      "outputs": []
    },
    {
      "cell_type": "code",
      "source": [
        "# Set the number of training epochs\n",
        "n_epochs = 50\n",
        "\n",
        "# Train the model on the training data\n",
        "model.fit(x_train, y_train, epochs=n_epochs, verbose=1)"
      ],
      "metadata": {
        "colab": {
          "base_uri": "https://localhost:8080/"
        },
        "id": "0_dZLSbw8fGN",
        "outputId": "c4eacce1-8f56-440d-a645-ac49491a6b4b"
      },
      "execution_count": null,
      "outputs": [
        {
          "output_type": "stream",
          "name": "stdout",
          "text": [
            "Epoch 1/50\n",
            "23/23 [==============================] - 2s 7ms/step - loss: 1560.4819\n",
            "Epoch 2/50\n",
            "23/23 [==============================] - 0s 5ms/step - loss: 1544.2451\n",
            "Epoch 3/50\n",
            "23/23 [==============================] - 0s 5ms/step - loss: 1528.3724\n",
            "Epoch 4/50\n",
            "23/23 [==============================] - 0s 4ms/step - loss: 1511.8578\n",
            "Epoch 5/50\n",
            "23/23 [==============================] - 0s 6ms/step - loss: 1495.3135\n",
            "Epoch 6/50\n",
            "23/23 [==============================] - 0s 6ms/step - loss: 1478.2091\n",
            "Epoch 7/50\n",
            "23/23 [==============================] - 0s 5ms/step - loss: 1460.6077\n",
            "Epoch 8/50\n",
            "23/23 [==============================] - 0s 7ms/step - loss: 1442.1062\n",
            "Epoch 9/50\n",
            "23/23 [==============================] - 0s 4ms/step - loss: 1422.8590\n",
            "Epoch 10/50\n",
            "23/23 [==============================] - 0s 5ms/step - loss: 1402.3599\n",
            "Epoch 11/50\n",
            "23/23 [==============================] - 0s 5ms/step - loss: 1381.0901\n",
            "Epoch 12/50\n",
            "23/23 [==============================] - 0s 5ms/step - loss: 1358.5646\n",
            "Epoch 13/50\n",
            "23/23 [==============================] - 0s 6ms/step - loss: 1334.8799\n",
            "Epoch 14/50\n",
            "23/23 [==============================] - 0s 4ms/step - loss: 1309.8417\n",
            "Epoch 15/50\n",
            "23/23 [==============================] - 0s 4ms/step - loss: 1284.0487\n",
            "Epoch 16/50\n",
            "23/23 [==============================] - 0s 3ms/step - loss: 1256.8511\n",
            "Epoch 17/50\n",
            "23/23 [==============================] - 0s 4ms/step - loss: 1228.7153\n",
            "Epoch 18/50\n",
            "23/23 [==============================] - 0s 3ms/step - loss: 1199.3553\n",
            "Epoch 19/50\n",
            "23/23 [==============================] - 0s 3ms/step - loss: 1169.7200\n",
            "Epoch 20/50\n",
            "23/23 [==============================] - 0s 3ms/step - loss: 1138.7664\n",
            "Epoch 21/50\n",
            "23/23 [==============================] - 0s 3ms/step - loss: 1107.4578\n",
            "Epoch 22/50\n",
            "23/23 [==============================] - 0s 3ms/step - loss: 1075.7070\n",
            "Epoch 23/50\n",
            "23/23 [==============================] - 0s 3ms/step - loss: 1043.1663\n",
            "Epoch 24/50\n",
            "23/23 [==============================] - 0s 3ms/step - loss: 1010.5776\n",
            "Epoch 25/50\n",
            "23/23 [==============================] - 0s 4ms/step - loss: 977.1846\n",
            "Epoch 26/50\n",
            "23/23 [==============================] - 0s 3ms/step - loss: 944.0848\n",
            "Epoch 27/50\n",
            "23/23 [==============================] - 0s 3ms/step - loss: 910.2228\n",
            "Epoch 28/50\n",
            "23/23 [==============================] - 0s 5ms/step - loss: 876.2768\n",
            "Epoch 29/50\n",
            "23/23 [==============================] - 0s 6ms/step - loss: 842.9636\n",
            "Epoch 30/50\n",
            "23/23 [==============================] - 0s 4ms/step - loss: 809.4774\n",
            "Epoch 31/50\n",
            "23/23 [==============================] - 0s 3ms/step - loss: 776.4313\n",
            "Epoch 32/50\n",
            "23/23 [==============================] - 0s 5ms/step - loss: 743.8366\n",
            "Epoch 33/50\n",
            "23/23 [==============================] - 0s 4ms/step - loss: 711.4666\n",
            "Epoch 34/50\n",
            "23/23 [==============================] - 0s 3ms/step - loss: 679.4092\n",
            "Epoch 35/50\n",
            "23/23 [==============================] - 0s 4ms/step - loss: 648.8248\n",
            "Epoch 36/50\n",
            "23/23 [==============================] - 0s 6ms/step - loss: 618.4914\n",
            "Epoch 37/50\n",
            "23/23 [==============================] - 0s 4ms/step - loss: 589.7049\n",
            "Epoch 38/50\n",
            "23/23 [==============================] - 0s 4ms/step - loss: 561.6454\n",
            "Epoch 39/50\n",
            "23/23 [==============================] - 0s 3ms/step - loss: 535.1270\n",
            "Epoch 40/50\n",
            "23/23 [==============================] - 0s 4ms/step - loss: 509.2894\n",
            "Epoch 41/50\n",
            "23/23 [==============================] - 0s 6ms/step - loss: 485.1179\n",
            "Epoch 42/50\n",
            "23/23 [==============================] - 0s 3ms/step - loss: 461.7889\n",
            "Epoch 43/50\n",
            "23/23 [==============================] - 0s 3ms/step - loss: 439.6063\n",
            "Epoch 44/50\n",
            "23/23 [==============================] - 0s 5ms/step - loss: 419.1398\n",
            "Epoch 45/50\n",
            "23/23 [==============================] - 0s 3ms/step - loss: 399.7258\n",
            "Epoch 46/50\n",
            "23/23 [==============================] - 0s 3ms/step - loss: 381.5337\n",
            "Epoch 47/50\n",
            "23/23 [==============================] - 0s 4ms/step - loss: 364.7885\n",
            "Epoch 48/50\n",
            "23/23 [==============================] - 0s 3ms/step - loss: 349.2901\n",
            "Epoch 49/50\n",
            "23/23 [==============================] - 0s 3ms/step - loss: 334.7686\n",
            "Epoch 50/50\n",
            "23/23 [==============================] - 0s 3ms/step - loss: 321.3167\n"
          ]
        },
        {
          "output_type": "execute_result",
          "data": {
            "text/plain": [
              "<keras.src.callbacks.History at 0x7dbf7054d6c0>"
            ]
          },
          "metadata": {},
          "execution_count": 17
        }
      ]
    },
    {
      "cell_type": "markdown",
      "source": [
        "## Task # 03\n",
        "Evaluate the model on the test data and compute the mean squared error between the predicted concrete strength and the actual concrete strength. You can use the mean_squared_error function from Scikit-learn."
      ],
      "metadata": {
        "id": "6bvXQMmL9fNz"
      }
    },
    {
      "cell_type": "code",
      "source": [
        "# Make predictions on the test data\n",
        "y_hat = model.predict(x_test, verbose=0)\n",
        "\n",
        "# Calculate and print the mean squared error between the predicted and actual target values\n",
        "mse = mean_squared_error(y_test, y_hat)\n",
        "\n",
        "print(f'Mean Squared Error: {mse}')"
      ],
      "metadata": {
        "colab": {
          "base_uri": "https://localhost:8080/"
        },
        "id": "nFN6-DQW8i5h",
        "outputId": "d7f73cf9-7969-4ce8-829d-b9ebbab39856"
      },
      "execution_count": null,
      "outputs": [
        {
          "output_type": "stream",
          "name": "stdout",
          "text": [
            "Mean Squared Error: 303.713646637444\n"
          ]
        }
      ]
    },
    {
      "cell_type": "markdown",
      "source": [
        "## Task # 04\n",
        "Repeat steps 1-3, 50 times, i.e., create a list of 50 mean squared errors."
      ],
      "metadata": {
        "id": "y9RowIjE9uRF"
      }
    },
    {
      "cell_type": "code",
      "source": [
        "# Create an empty list to store mean squared errors\n",
        "mse_list = []\n",
        "\n",
        "# Set the number of runs\n",
        "n_runs = 50\n",
        "\n",
        "# Repeat the following steps 50 times, varying the random_state for data splitting\n",
        "for i in range(n_runs):\n",
        "    # Split the data into training and test sets (70% train, 30% test) with different random_state values\n",
        "    x_train, x_test, y_train, y_test = train_test_split(df[features], target, test_size=0.3, random_state=i)\n",
        "\n",
        "    # Create the regression model\n",
        "    model = RegressionModel()\n",
        "\n",
        "    # Train the model on the training data using n_epochs=50 epochs\n",
        "    model.fit(x_train, y_train, epochs=n_epochs, verbose=0)\n",
        "\n",
        "    # Make predictions on the test data\n",
        "    y_hat = model.predict(x_test, verbose=0)\n",
        "\n",
        "    # Evaluate the model on the test data and calculate mean squared error\n",
        "    mean_square_error = mean_squared_error(y_test, y_hat)\n",
        "    print(f'Mean Squared Error in Run {i + 1}: {mean_square_error}')\n",
        "\n",
        "    # Append the calculated mean squared error to the list\n",
        "    mse_list.append(mean_square_error)"
      ],
      "metadata": {
        "colab": {
          "base_uri": "https://localhost:8080/"
        },
        "id": "7bjpOJZyC6AU",
        "outputId": "f978dad0-4eb4-438a-8d27-725ef76080c1"
      },
      "execution_count": null,
      "outputs": [
        {
          "output_type": "stream",
          "name": "stdout",
          "text": [
            "Mean Squared Error in Run 1: 388.32956684762087\n",
            "Mean Squared Error in Run 2: 495.89221756794495\n",
            "Mean Squared Error in Run 3: 376.7229842646287\n",
            "Mean Squared Error in Run 4: 287.06270678129164\n",
            "Mean Squared Error in Run 5: 337.759216925084\n",
            "Mean Squared Error in Run 6: 314.2480460577951\n",
            "Mean Squared Error in Run 7: 261.98856773410347\n",
            "Mean Squared Error in Run 8: 266.69079152006555\n",
            "Mean Squared Error in Run 9: 514.5597326743039\n",
            "Mean Squared Error in Run 10: 274.1268276363295\n",
            "Mean Squared Error in Run 11: 720.4775912589786\n",
            "Mean Squared Error in Run 12: 230.56362460110066\n",
            "Mean Squared Error in Run 13: 273.5223566049686\n",
            "Mean Squared Error in Run 14: 410.9584120517779\n",
            "Mean Squared Error in Run 15: 407.79351611754066\n",
            "Mean Squared Error in Run 16: 298.1497537133196\n",
            "Mean Squared Error in Run 17: 291.773168709456\n",
            "Mean Squared Error in Run 18: 487.39354924882593\n",
            "Mean Squared Error in Run 19: 243.30229976652325\n",
            "Mean Squared Error in Run 20: 347.41396849767796\n",
            "Mean Squared Error in Run 21: 511.1158944638985\n",
            "Mean Squared Error in Run 22: 245.45126091259527\n",
            "Mean Squared Error in Run 23: 247.49173219860063\n",
            "Mean Squared Error in Run 24: 242.66215278714031\n",
            "Mean Squared Error in Run 25: 306.66218832458435\n",
            "Mean Squared Error in Run 26: 296.9534126842837\n",
            "Mean Squared Error in Run 27: 330.7271234686905\n",
            "Mean Squared Error in Run 28: 282.25456329470745\n",
            "Mean Squared Error in Run 29: 303.61329044133055\n",
            "Mean Squared Error in Run 30: 312.51542667329113\n",
            "Mean Squared Error in Run 31: 351.216593688616\n",
            "Mean Squared Error in Run 32: 292.98893069520045\n",
            "Mean Squared Error in Run 33: 324.18383223414213\n",
            "Mean Squared Error in Run 34: 264.85553792964697\n",
            "Mean Squared Error in Run 35: 392.15397388705526\n",
            "Mean Squared Error in Run 36: 303.28512186669826\n",
            "Mean Squared Error in Run 37: 444.0505117154838\n",
            "Mean Squared Error in Run 38: 241.0530666383345\n",
            "Mean Squared Error in Run 39: 380.6229827911364\n",
            "Mean Squared Error in Run 40: 241.2516709333897\n",
            "Mean Squared Error in Run 41: 299.50404652502823\n",
            "Mean Squared Error in Run 42: 384.2252003106334\n",
            "Mean Squared Error in Run 43: 394.94711901575306\n",
            "Mean Squared Error in Run 44: 314.1501062658868\n",
            "Mean Squared Error in Run 45: 253.8900919638172\n",
            "Mean Squared Error in Run 46: 320.187524853204\n",
            "Mean Squared Error in Run 47: 365.5559394167691\n",
            "Mean Squared Error in Run 48: 318.42485176852426\n",
            "Mean Squared Error in Run 49: 264.5532507489142\n",
            "Mean Squared Error in Run 50: 244.93471297654946\n"
          ]
        }
      ]
    },
    {
      "cell_type": "markdown",
      "source": [
        "## Task # 05\n",
        "Report the mean and the standard deviation of the mean squared errors."
      ],
      "metadata": {
        "id": "I6SPqBrx93tz"
      }
    },
    {
      "cell_type": "code",
      "source": [
        "# Convert the list of mean squared errors into a NumPy array\n",
        "mse_list = np.array(mse_list)\n",
        "\n",
        "# Calculate the mean and standard deviation of the mean squared errors from all runs\n",
        "mean = np.mean(mse_list)\n",
        "standard_deviation = np.std(mse_list)\n",
        "\n",
        "# Report by printing the mean and standard deviation of the mean squared errors\n",
        "print(f'Mean of {n_runs} runs: {mean}')\n",
        "print(f'Standard Deviation of {n_runs} runs: {standard_deviation}')"
      ],
      "metadata": {
        "colab": {
          "base_uri": "https://localhost:8080/"
        },
        "id": "BRIszfGI-Rbf",
        "outputId": "bdaa2261-b53a-4b7b-c2dd-406224663659"
      },
      "execution_count": null,
      "outputs": [
        {
          "output_type": "stream",
          "name": "stdout",
          "text": [
            "Mean of 50 runs: 334.0842202010648\n",
            "Standard Deviation of 50 runs: 91.86404487875411\n"
          ]
        }
      ]
    },
    {
      "cell_type": "markdown",
      "source": [
        "## How does the mean of the mean sqaured errors compare to that from Step A?\n",
        "**Mean of MSE**: The second approach (with standardization) has a lower mean MSE (334.084) compared to the first approach (without standardization, 353.733). This suggests that, on average, the model with standardization provides slightly better predictive performance.\n",
        "\n",
        "**Standard Deviation of MSE**: The standard deviation of MSE for the second approach is significantly lower (91.864) than that of the first approach (345.561). This means that the MSE values are more consistent and have less variability in the second approach, indicating that the model's performance is more stable across the 50 runs."
      ],
      "metadata": {
        "id": "COexr_8UmL1S"
      }
    },
    {
      "cell_type": "markdown",
      "source": [
        "*Please take into consideration that when running these notebooks, the results may display variability owing to several factors. These factors may be random initialization, data partitioning, model training dynamics, variations in the versions of libraries such as Keras and TensorFlow, and/or additional external factors.*"
      ],
      "metadata": {
        "id": "kH_dvKMY4wJ7"
      }
    }
  ]
}